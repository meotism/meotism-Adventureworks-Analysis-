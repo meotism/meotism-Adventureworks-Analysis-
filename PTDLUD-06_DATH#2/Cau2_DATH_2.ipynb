{
  "nbformat": 4,
  "nbformat_minor": 0,
  "metadata": {
    "colab": {
      "name": "Cau2 DATH#2",
      "provenance": [],
      "collapsed_sections": [],
      "toc_visible": true
    },
    "kernelspec": {
      "name": "python3",
      "display_name": "Python 3"
    },
    "language_info": {
      "name": "python"
    }
  },
  "cells": [
    {
      "cell_type": "markdown",
      "source": [
        "# DATH#2: AdventureWorks2012\n",
        "\n",
        "Nhóm PTDL06\n",
        "\n",
        "Thành viên:\n",
        "\n",
        "*   Nguyễn Trần Ái Nguyên - 18120217 "
      ],
      "metadata": {
        "id": "BlyOoQHMAYQK"
      }
    },
    {
      "cell_type": "markdown",
      "source": [
        "#Import"
      ],
      "metadata": {
        "id": "k2BWBwp5BdpR"
      }
    },
    {
      "cell_type": "code",
      "metadata": {
        "id": "YV5AWvwUJhrW",
        "colab": {
          "base_uri": "https://localhost:8080/"
        },
        "outputId": "841c448e-9421-4a26-8bd1-11f563ffd410"
      },
      "source": [
        "import warnings\n",
        "warnings.filterwarnings('ignore')\n",
        "\n",
        "import numpy as np\n",
        "import matplotlib.pyplot as plt\n",
        "import pandas as pd\n",
        "import numpy as np\n",
        "import seaborn as sns\n",
        "import sys\n",
        "from sklearn.linear_model import LogisticRegression\n",
        "from sklearn.preprocessing import StandardScaler\n",
        "from sklearn.feature_selection import RFE\n",
        "from sklearn.model_selection import train_test_split\n",
        "from sklearn.preprocessing import OrdinalEncoder\n",
        "from sklearn.preprocessing import OneHotEncoder\n",
        "from sklearn.preprocessing import LabelEncoder\n",
        "from sklearn.compose import ColumnTransformer\n",
        "from sklearn.pipeline import Pipeline\n",
        "from sklearn.impute import SimpleImputer\n",
        "from collections import Counter\n",
        "from sklearn import preprocessing\n",
        "from sklearn.metrics import accuracy_score, classification_report, confusion_matrix\n",
        "import pydotplus #pip install pydotplus\n",
        "from sklearn.tree import export_graphviz\n",
        "from sklearn.tree import DecisionTreeClassifier\n",
        "from sklearn.metrics import accuracy_score\n",
        "import sys\n",
        "\n",
        "if 'google.colab' in sys.modules:\n",
        "  !pip install -q dtreeviz\n",
        "from sklearn.datasets import *\n",
        "from dtreeviz.trees import *\n",
        "from IPython.display import Image, display_svg, SVG"
      ],
      "execution_count": null,
      "outputs": [
        {
          "output_type": "stream",
          "name": "stdout",
          "text": [
            "\u001b[?25l\r\u001b[K     |█████▎                          | 10 kB 26.8 MB/s eta 0:00:01\r\u001b[K     |██████████▌                     | 20 kB 23.1 MB/s eta 0:00:01\r\u001b[K     |███████████████▉                | 30 kB 19.4 MB/s eta 0:00:01\r\u001b[K     |█████████████████████           | 40 kB 15.5 MB/s eta 0:00:01\r\u001b[K     |██████████████████████████▍     | 51 kB 8.3 MB/s eta 0:00:01\r\u001b[K     |███████████████████████████████▋| 61 kB 8.9 MB/s eta 0:00:01\r\u001b[K     |████████████████████████████████| 62 kB 657 kB/s \n",
            "\u001b[?25h  Building wheel for dtreeviz (setup.py) ... \u001b[?25l\u001b[?25hdone\n"
          ]
        }
      ]
    },
    {
      "cell_type": "code",
      "source": [
        "import sys\n",
        "import os\n",
        "# add library module to PYTHONPATH\n",
        "sys.path.append(f\"{os.getcwd()}/../\")"
      ],
      "metadata": {
        "id": "8b7DeYa1xs6C"
      },
      "execution_count": null,
      "outputs": []
    },
    {
      "cell_type": "code",
      "source": [
        "%%javascript\n",
        "IPython.OutputArea.prototype._should_scroll = function(lines) {\n",
        "    return false;\n",
        "}"
      ],
      "metadata": {
        "colab": {
          "base_uri": "https://localhost:8080/",
          "height": 17
        },
        "id": "ZwoXuXaeBydv",
        "outputId": "ac86baeb-650d-4fe3-9e14-f261945ef32e"
      },
      "execution_count": null,
      "outputs": [
        {
          "output_type": "display_data",
          "data": {
            "application/javascript": [
              "IPython.OutputArea.prototype._should_scroll = function(lines) {\n",
              "    return false;\n",
              "}"
            ],
            "text/plain": [
              "<IPython.core.display.Javascript object>"
            ]
          },
          "metadata": {}
        }
      ]
    },
    {
      "cell_type": "code",
      "source": [
        "%config Completer.use_jedi = False\n",
        "\n",
        "sns.set(style=\"white\")\n",
        "sns.set(style=\"whitegrid\", color_codes=True)\n",
        "\n",
        "np.set_printoptions(threshold=sys.maxsize)\n",
        "\n",
        "pd.set_option('display.max_rows', 500)\n",
        "pd.set_option('display.max_columns', 500)\n",
        "%matplotlib inline"
      ],
      "metadata": {
        "id": "UHw9inwaB5RV"
      },
      "execution_count": null,
      "outputs": []
    },
    {
      "cell_type": "code",
      "metadata": {
        "colab": {
          "resources": {
            "http://localhost:8080/nbextensions/google.colab/files.js": {
              "data": "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",
              "ok": true,
              "headers": [
                [
                  "content-type",
                  "application/javascript"
                ]
              ],
              "status": 200,
              "status_text": ""
            }
          },
          "base_uri": "https://localhost:8080/",
          "height": 72
        },
        "id": "ealNsYr-Gvhn",
        "outputId": "30c1ecd6-de4c-4a47-9293-ba9326c9ce24"
      },
      "source": [
        "from google.colab import files\n",
        "uploaded = files.upload()"
      ],
      "execution_count": null,
      "outputs": [
        {
          "output_type": "display_data",
          "data": {
            "text/html": [
              "\n",
              "     <input type=\"file\" id=\"files-7f8c1737-0121-4b1b-bfc9-c19f385e60fa\" name=\"files[]\" multiple disabled\n",
              "        style=\"border:none\" />\n",
              "     <output id=\"result-7f8c1737-0121-4b1b-bfc9-c19f385e60fa\">\n",
              "      Upload widget is only available when the cell has been executed in the\n",
              "      current browser session. Please rerun this cell to enable.\n",
              "      </output>\n",
              "      <script src=\"/nbextensions/google.colab/files.js\"></script> "
            ],
            "text/plain": [
              "<IPython.core.display.HTML object>"
            ]
          },
          "metadata": {}
        },
        {
          "output_type": "stream",
          "name": "stdout",
          "text": [
            "Saving cau2.csv to cau2.csv\n"
          ]
        }
      ]
    },
    {
      "cell_type": "markdown",
      "metadata": {
        "id": "79p3WBB9E5ys"
      },
      "source": [
        "18120217 - Nguyễn Trần Ái Nguyên"
      ]
    },
    {
      "cell_type": "markdown",
      "metadata": {
        "id": "pueJL02-FIFv"
      },
      "source": [
        "#Tìm hiểu và mô tả ý nghĩa các biến trong tập dữ liệu.\n"
      ]
    },
    {
      "cell_type": "code",
      "metadata": {
        "id": "ajopwVmoFHXp"
      },
      "source": [
        "# Biến đổi file vào dataframe"
      ],
      "execution_count": null,
      "outputs": []
    },
    {
      "cell_type": "code",
      "metadata": {
        "colab": {
          "base_uri": "https://localhost:8080/",
          "height": 424
        },
        "id": "oBrvUA8cVO-t",
        "outputId": "b25857f5-dfab-4e19-dcf1-e192add098eb"
      },
      "source": [
        "import pandas as pd\n",
        "import numpy as np\n",
        "df_data=pd.read_csv(\"cau2.csv\")\n",
        "df=pd.DataFrame(df_data)\n",
        "#df=pd.DataFrame(df_data, columns = ['BusinessEntityID', 'MaritalStatus', 'YearlyIncome','Gender','TotalChildren','NumberChildrenAtHome','Education','Occupation','HomeOwnerFlag','NumberCarsOwned','BikeBuyer'])\n",
        "df\n"
      ],
      "execution_count": null,
      "outputs": [
        {
          "output_type": "execute_result",
          "data": {
            "text/html": [
              "\n",
              "  <div id=\"df-4ac3d78a-7e78-4b31-8fc2-1205b652a333\">\n",
              "    <div class=\"colab-df-container\">\n",
              "      <div>\n",
              "<style scoped>\n",
              "    .dataframe tbody tr th:only-of-type {\n",
              "        vertical-align: middle;\n",
              "    }\n",
              "\n",
              "    .dataframe tbody tr th {\n",
              "        vertical-align: top;\n",
              "    }\n",
              "\n",
              "    .dataframe thead th {\n",
              "        text-align: right;\n",
              "    }\n",
              "</style>\n",
              "<table border=\"1\" class=\"dataframe\">\n",
              "  <thead>\n",
              "    <tr style=\"text-align: right;\">\n",
              "      <th></th>\n",
              "      <th>BusinessEntityID</th>\n",
              "      <th>MaritalStatus</th>\n",
              "      <th>YearlyIncome</th>\n",
              "      <th>Gender</th>\n",
              "      <th>TotalChildren</th>\n",
              "      <th>NumberChildrenAtHome</th>\n",
              "      <th>Education</th>\n",
              "      <th>Occupation</th>\n",
              "      <th>HomeOwnerFlag</th>\n",
              "      <th>NumberCarsOwned</th>\n",
              "      <th>BikeBuyer</th>\n",
              "    </tr>\n",
              "  </thead>\n",
              "  <tbody>\n",
              "    <tr>\n",
              "      <th>0</th>\n",
              "      <td>14116</td>\n",
              "      <td>S</td>\n",
              "      <td>0-25000</td>\n",
              "      <td>F</td>\n",
              "      <td>2.0</td>\n",
              "      <td>2.0</td>\n",
              "      <td>High School</td>\n",
              "      <td>Manual</td>\n",
              "      <td>1.0</td>\n",
              "      <td>0.0</td>\n",
              "      <td>1</td>\n",
              "    </tr>\n",
              "    <tr>\n",
              "      <th>1</th>\n",
              "      <td>14173</td>\n",
              "      <td>S</td>\n",
              "      <td>25001-50000</td>\n",
              "      <td>M</td>\n",
              "      <td>4.0</td>\n",
              "      <td>2.0</td>\n",
              "      <td>High School</td>\n",
              "      <td>Skilled Manual</td>\n",
              "      <td>1.0</td>\n",
              "      <td>2.0</td>\n",
              "      <td>0</td>\n",
              "    </tr>\n",
              "    <tr>\n",
              "      <th>2</th>\n",
              "      <td>14175</td>\n",
              "      <td>S</td>\n",
              "      <td>25001-50000</td>\n",
              "      <td>M</td>\n",
              "      <td>1.0</td>\n",
              "      <td>0.0</td>\n",
              "      <td>Bachelors</td>\n",
              "      <td>Clerical</td>\n",
              "      <td>0.0</td>\n",
              "      <td>1.0</td>\n",
              "      <td>0</td>\n",
              "    </tr>\n",
              "    <tr>\n",
              "      <th>3</th>\n",
              "      <td>14182</td>\n",
              "      <td>S</td>\n",
              "      <td>25001-50000</td>\n",
              "      <td>F</td>\n",
              "      <td>2.0</td>\n",
              "      <td>0.0</td>\n",
              "      <td>Partial College</td>\n",
              "      <td>Skilled Manual</td>\n",
              "      <td>1.0</td>\n",
              "      <td>2.0</td>\n",
              "      <td>1</td>\n",
              "    </tr>\n",
              "    <tr>\n",
              "      <th>4</th>\n",
              "      <td>14209</td>\n",
              "      <td>S</td>\n",
              "      <td>0-25000</td>\n",
              "      <td>F</td>\n",
              "      <td>0.0</td>\n",
              "      <td>0.0</td>\n",
              "      <td>High School</td>\n",
              "      <td>Manual</td>\n",
              "      <td>0.0</td>\n",
              "      <td>2.0</td>\n",
              "      <td>1</td>\n",
              "    </tr>\n",
              "    <tr>\n",
              "      <th>...</th>\n",
              "      <td>...</td>\n",
              "      <td>...</td>\n",
              "      <td>...</td>\n",
              "      <td>...</td>\n",
              "      <td>...</td>\n",
              "      <td>...</td>\n",
              "      <td>...</td>\n",
              "      <td>...</td>\n",
              "      <td>...</td>\n",
              "      <td>...</td>\n",
              "      <td>...</td>\n",
              "    </tr>\n",
              "    <tr>\n",
              "      <th>19967</th>\n",
              "      <td>2343</td>\n",
              "      <td>NaN</td>\n",
              "      <td>NaN</td>\n",
              "      <td>NaN</td>\n",
              "      <td>NaN</td>\n",
              "      <td>NaN</td>\n",
              "      <td>NaN</td>\n",
              "      <td>NaN</td>\n",
              "      <td>NaN</td>\n",
              "      <td>NaN</td>\n",
              "      <td>0</td>\n",
              "    </tr>\n",
              "    <tr>\n",
              "      <th>19968</th>\n",
              "      <td>2341</td>\n",
              "      <td>NaN</td>\n",
              "      <td>NaN</td>\n",
              "      <td>NaN</td>\n",
              "      <td>NaN</td>\n",
              "      <td>NaN</td>\n",
              "      <td>NaN</td>\n",
              "      <td>NaN</td>\n",
              "      <td>NaN</td>\n",
              "      <td>NaN</td>\n",
              "      <td>0</td>\n",
              "    </tr>\n",
              "    <tr>\n",
              "      <th>19969</th>\n",
              "      <td>2318</td>\n",
              "      <td>NaN</td>\n",
              "      <td>NaN</td>\n",
              "      <td>NaN</td>\n",
              "      <td>NaN</td>\n",
              "      <td>NaN</td>\n",
              "      <td>NaN</td>\n",
              "      <td>NaN</td>\n",
              "      <td>NaN</td>\n",
              "      <td>NaN</td>\n",
              "      <td>0</td>\n",
              "    </tr>\n",
              "    <tr>\n",
              "      <th>19970</th>\n",
              "      <td>2316</td>\n",
              "      <td>NaN</td>\n",
              "      <td>NaN</td>\n",
              "      <td>NaN</td>\n",
              "      <td>NaN</td>\n",
              "      <td>NaN</td>\n",
              "      <td>NaN</td>\n",
              "      <td>NaN</td>\n",
              "      <td>NaN</td>\n",
              "      <td>NaN</td>\n",
              "      <td>0</td>\n",
              "    </tr>\n",
              "    <tr>\n",
              "      <th>19971</th>\n",
              "      <td>2309</td>\n",
              "      <td>NaN</td>\n",
              "      <td>NaN</td>\n",
              "      <td>NaN</td>\n",
              "      <td>NaN</td>\n",
              "      <td>NaN</td>\n",
              "      <td>NaN</td>\n",
              "      <td>NaN</td>\n",
              "      <td>NaN</td>\n",
              "      <td>NaN</td>\n",
              "      <td>0</td>\n",
              "    </tr>\n",
              "  </tbody>\n",
              "</table>\n",
              "<p>19972 rows × 11 columns</p>\n",
              "</div>\n",
              "      <button class=\"colab-df-convert\" onclick=\"convertToInteractive('df-4ac3d78a-7e78-4b31-8fc2-1205b652a333')\"\n",
              "              title=\"Convert this dataframe to an interactive table.\"\n",
              "              style=\"display:none;\">\n",
              "        \n",
              "  <svg xmlns=\"http://www.w3.org/2000/svg\" height=\"24px\"viewBox=\"0 0 24 24\"\n",
              "       width=\"24px\">\n",
              "    <path d=\"M0 0h24v24H0V0z\" fill=\"none\"/>\n",
              "    <path d=\"M18.56 5.44l.94 2.06.94-2.06 2.06-.94-2.06-.94-.94-2.06-.94 2.06-2.06.94zm-11 1L8.5 8.5l.94-2.06 2.06-.94-2.06-.94L8.5 2.5l-.94 2.06-2.06.94zm10 10l.94 2.06.94-2.06 2.06-.94-2.06-.94-.94-2.06-.94 2.06-2.06.94z\"/><path d=\"M17.41 7.96l-1.37-1.37c-.4-.4-.92-.59-1.43-.59-.52 0-1.04.2-1.43.59L10.3 9.45l-7.72 7.72c-.78.78-.78 2.05 0 2.83L4 21.41c.39.39.9.59 1.41.59.51 0 1.02-.2 1.41-.59l7.78-7.78 2.81-2.81c.8-.78.8-2.07 0-2.86zM5.41 20L4 18.59l7.72-7.72 1.47 1.35L5.41 20z\"/>\n",
              "  </svg>\n",
              "      </button>\n",
              "      \n",
              "  <style>\n",
              "    .colab-df-container {\n",
              "      display:flex;\n",
              "      flex-wrap:wrap;\n",
              "      gap: 12px;\n",
              "    }\n",
              "\n",
              "    .colab-df-convert {\n",
              "      background-color: #E8F0FE;\n",
              "      border: none;\n",
              "      border-radius: 50%;\n",
              "      cursor: pointer;\n",
              "      display: none;\n",
              "      fill: #1967D2;\n",
              "      height: 32px;\n",
              "      padding: 0 0 0 0;\n",
              "      width: 32px;\n",
              "    }\n",
              "\n",
              "    .colab-df-convert:hover {\n",
              "      background-color: #E2EBFA;\n",
              "      box-shadow: 0px 1px 2px rgba(60, 64, 67, 0.3), 0px 1px 3px 1px rgba(60, 64, 67, 0.15);\n",
              "      fill: #174EA6;\n",
              "    }\n",
              "\n",
              "    [theme=dark] .colab-df-convert {\n",
              "      background-color: #3B4455;\n",
              "      fill: #D2E3FC;\n",
              "    }\n",
              "\n",
              "    [theme=dark] .colab-df-convert:hover {\n",
              "      background-color: #434B5C;\n",
              "      box-shadow: 0px 1px 3px 1px rgba(0, 0, 0, 0.15);\n",
              "      filter: drop-shadow(0px 1px 2px rgba(0, 0, 0, 0.3));\n",
              "      fill: #FFFFFF;\n",
              "    }\n",
              "  </style>\n",
              "\n",
              "      <script>\n",
              "        const buttonEl =\n",
              "          document.querySelector('#df-4ac3d78a-7e78-4b31-8fc2-1205b652a333 button.colab-df-convert');\n",
              "        buttonEl.style.display =\n",
              "          google.colab.kernel.accessAllowed ? 'block' : 'none';\n",
              "\n",
              "        async function convertToInteractive(key) {\n",
              "          const element = document.querySelector('#df-4ac3d78a-7e78-4b31-8fc2-1205b652a333');\n",
              "          const dataTable =\n",
              "            await google.colab.kernel.invokeFunction('convertToInteractive',\n",
              "                                                     [key], {});\n",
              "          if (!dataTable) return;\n",
              "\n",
              "          const docLinkHtml = 'Like what you see? Visit the ' +\n",
              "            '<a target=\"_blank\" href=https://colab.research.google.com/notebooks/data_table.ipynb>data table notebook</a>'\n",
              "            + ' to learn more about interactive tables.';\n",
              "          element.innerHTML = '';\n",
              "          dataTable['output_type'] = 'display_data';\n",
              "          await google.colab.output.renderOutput(dataTable, element);\n",
              "          const docLink = document.createElement('div');\n",
              "          docLink.innerHTML = docLinkHtml;\n",
              "          element.appendChild(docLink);\n",
              "        }\n",
              "      </script>\n",
              "    </div>\n",
              "  </div>\n",
              "  "
            ],
            "text/plain": [
              "       BusinessEntityID MaritalStatus YearlyIncome Gender  TotalChildren  \\\n",
              "0                 14116             S      0-25000      F            2.0   \n",
              "1                 14173             S  25001-50000      M            4.0   \n",
              "2                 14175             S  25001-50000      M            1.0   \n",
              "3                 14182             S  25001-50000      F            2.0   \n",
              "4                 14209             S      0-25000      F            0.0   \n",
              "...                 ...           ...          ...    ...            ...   \n",
              "19967              2343           NaN          NaN    NaN            NaN   \n",
              "19968              2341           NaN          NaN    NaN            NaN   \n",
              "19969              2318           NaN          NaN    NaN            NaN   \n",
              "19970              2316           NaN          NaN    NaN            NaN   \n",
              "19971              2309           NaN          NaN    NaN            NaN   \n",
              "\n",
              "       NumberChildrenAtHome        Education      Occupation  HomeOwnerFlag  \\\n",
              "0                       2.0      High School          Manual            1.0   \n",
              "1                       2.0      High School  Skilled Manual            1.0   \n",
              "2                       0.0       Bachelors         Clerical            0.0   \n",
              "3                       0.0  Partial College  Skilled Manual            1.0   \n",
              "4                       0.0      High School          Manual            0.0   \n",
              "...                     ...              ...             ...            ...   \n",
              "19967                   NaN              NaN             NaN            NaN   \n",
              "19968                   NaN              NaN             NaN            NaN   \n",
              "19969                   NaN              NaN             NaN            NaN   \n",
              "19970                   NaN              NaN             NaN            NaN   \n",
              "19971                   NaN              NaN             NaN            NaN   \n",
              "\n",
              "       NumberCarsOwned  BikeBuyer   \n",
              "0                  0.0           1  \n",
              "1                  2.0           0  \n",
              "2                  1.0           0  \n",
              "3                  2.0           1  \n",
              "4                  2.0           1  \n",
              "...                ...         ...  \n",
              "19967              NaN           0  \n",
              "19968              NaN           0  \n",
              "19969              NaN           0  \n",
              "19970              NaN           0  \n",
              "19971              NaN           0  \n",
              "\n",
              "[19972 rows x 11 columns]"
            ]
          },
          "metadata": {},
          "execution_count": 6
        }
      ]
    },
    {
      "cell_type": "markdown",
      "source": [
        "#Khám phá dữ liệu"
      ],
      "metadata": {
        "id": "V1C7jWyQpm08"
      }
    },
    {
      "cell_type": "code",
      "metadata": {
        "colab": {
          "base_uri": "https://localhost:8080/"
        },
        "id": "YhUov81vYxZ0",
        "outputId": "9b17bbd7-5af7-40f0-bda7-a583aba64541"
      },
      "source": [
        "df.info()"
      ],
      "execution_count": null,
      "outputs": [
        {
          "output_type": "stream",
          "name": "stdout",
          "text": [
            "<class 'pandas.core.frame.DataFrame'>\n",
            "RangeIndex: 19972 entries, 0 to 19971\n",
            "Data columns (total 11 columns):\n",
            " #   Column                Non-Null Count  Dtype  \n",
            "---  ------                --------------  -----  \n",
            " 0   BusinessEntityID      19972 non-null  int64  \n",
            " 1   MaritalStatus         18484 non-null  object \n",
            " 2   YearlyIncome          18484 non-null  object \n",
            " 3   Gender                18484 non-null  object \n",
            " 4   TotalChildren         18484 non-null  float64\n",
            " 5   NumberChildrenAtHome  18484 non-null  float64\n",
            " 6   Education             18484 non-null  object \n",
            " 7   Occupation            18484 non-null  object \n",
            " 8   HomeOwnerFlag         18484 non-null  float64\n",
            " 9   NumberCarsOwned       18484 non-null  float64\n",
            " 10  BikeBuyer             19972 non-null  int64  \n",
            "dtypes: float64(4), int64(2), object(5)\n",
            "memory usage: 1.7+ MB\n"
          ]
        }
      ]
    },
    {
      "cell_type": "code",
      "metadata": {
        "colab": {
          "base_uri": "https://localhost:8080/"
        },
        "id": "puMIZr1uaLUC",
        "outputId": "13f5c9be-3ef8-4bfd-a1f1-e2a9b446faf0"
      },
      "source": [
        "#Thống kê các cột có giá trị null\n",
        "df.isnull().sum().sort_values(ascending=False)"
      ],
      "execution_count": null,
      "outputs": [
        {
          "output_type": "execute_result",
          "data": {
            "text/plain": [
              "NumberCarsOwned         1488\n",
              "HomeOwnerFlag           1488\n",
              "Occupation              1488\n",
              "Education               1488\n",
              "NumberChildrenAtHome    1488\n",
              "TotalChildren           1488\n",
              "Gender                  1488\n",
              "YearlyIncome            1488\n",
              "MaritalStatus           1488\n",
              "BikeBuyer                  0\n",
              "BusinessEntityID           0\n",
              "dtype: int64"
            ]
          },
          "metadata": {},
          "execution_count": 8
        }
      ]
    },
    {
      "cell_type": "markdown",
      "source": [
        "Chỉ có 2 cột BikeBuyer và BusinessEntityID không có giá trị NULL"
      ],
      "metadata": {
        "id": "HYAR3ClS0dLA"
      }
    },
    {
      "cell_type": "code",
      "metadata": {
        "colab": {
          "base_uri": "https://localhost:8080/"
        },
        "id": "9zV9eJdKaStv",
        "outputId": "c2b864f5-3dc8-4925-96b8-3d52ee75c9ec"
      },
      "source": [
        "#%các giá trị null trong cột\n",
        "df.isnull().sum().sort_values(ascending=False)\n",
        "for column in df.columns:\n",
        "  percent=df[column].isnull().mean()\n",
        "  print(f'{column}:{round(percent*100,3)}')"
      ],
      "execution_count": null,
      "outputs": [
        {
          "output_type": "stream",
          "name": "stdout",
          "text": [
            "BusinessEntityID:0.0\n",
            "MaritalStatus:7.45\n",
            "YearlyIncome:7.45\n",
            "Gender:7.45\n",
            "TotalChildren:7.45\n",
            "NumberChildrenAtHome:7.45\n",
            "Education:7.45\n",
            "Occupation:7.45\n",
            "HomeOwnerFlag:7.45\n",
            "NumberCarsOwned:7.45\n",
            "BikeBuyer :0.0\n"
          ]
        }
      ]
    },
    {
      "cell_type": "markdown",
      "source": [
        "## drop row missing data"
      ],
      "metadata": {
        "id": "GjyTQCHk0t2s"
      }
    },
    {
      "cell_type": "code",
      "source": [
        "df.dropna()"
      ],
      "metadata": {
        "colab": {
          "base_uri": "https://localhost:8080/",
          "height": 424
        },
        "id": "2WoMWN6rrmV_",
        "outputId": "68221386-c6e1-48b4-8929-de783b353936"
      },
      "execution_count": null,
      "outputs": [
        {
          "output_type": "execute_result",
          "data": {
            "text/html": [
              "\n",
              "  <div id=\"df-d7d22200-1203-4240-b63d-de38f4528475\">\n",
              "    <div class=\"colab-df-container\">\n",
              "      <div>\n",
              "<style scoped>\n",
              "    .dataframe tbody tr th:only-of-type {\n",
              "        vertical-align: middle;\n",
              "    }\n",
              "\n",
              "    .dataframe tbody tr th {\n",
              "        vertical-align: top;\n",
              "    }\n",
              "\n",
              "    .dataframe thead th {\n",
              "        text-align: right;\n",
              "    }\n",
              "</style>\n",
              "<table border=\"1\" class=\"dataframe\">\n",
              "  <thead>\n",
              "    <tr style=\"text-align: right;\">\n",
              "      <th></th>\n",
              "      <th>BusinessEntityID</th>\n",
              "      <th>MaritalStatus</th>\n",
              "      <th>YearlyIncome</th>\n",
              "      <th>Gender</th>\n",
              "      <th>TotalChildren</th>\n",
              "      <th>NumberChildrenAtHome</th>\n",
              "      <th>Education</th>\n",
              "      <th>Occupation</th>\n",
              "      <th>HomeOwnerFlag</th>\n",
              "      <th>NumberCarsOwned</th>\n",
              "      <th>BikeBuyer</th>\n",
              "    </tr>\n",
              "  </thead>\n",
              "  <tbody>\n",
              "    <tr>\n",
              "      <th>0</th>\n",
              "      <td>14116</td>\n",
              "      <td>S</td>\n",
              "      <td>0-25000</td>\n",
              "      <td>F</td>\n",
              "      <td>2.0</td>\n",
              "      <td>2.0</td>\n",
              "      <td>High School</td>\n",
              "      <td>Manual</td>\n",
              "      <td>1.0</td>\n",
              "      <td>0.0</td>\n",
              "      <td>1</td>\n",
              "    </tr>\n",
              "    <tr>\n",
              "      <th>1</th>\n",
              "      <td>14173</td>\n",
              "      <td>S</td>\n",
              "      <td>25001-50000</td>\n",
              "      <td>M</td>\n",
              "      <td>4.0</td>\n",
              "      <td>2.0</td>\n",
              "      <td>High School</td>\n",
              "      <td>Skilled Manual</td>\n",
              "      <td>1.0</td>\n",
              "      <td>2.0</td>\n",
              "      <td>0</td>\n",
              "    </tr>\n",
              "    <tr>\n",
              "      <th>2</th>\n",
              "      <td>14175</td>\n",
              "      <td>S</td>\n",
              "      <td>25001-50000</td>\n",
              "      <td>M</td>\n",
              "      <td>1.0</td>\n",
              "      <td>0.0</td>\n",
              "      <td>Bachelors</td>\n",
              "      <td>Clerical</td>\n",
              "      <td>0.0</td>\n",
              "      <td>1.0</td>\n",
              "      <td>0</td>\n",
              "    </tr>\n",
              "    <tr>\n",
              "      <th>3</th>\n",
              "      <td>14182</td>\n",
              "      <td>S</td>\n",
              "      <td>25001-50000</td>\n",
              "      <td>F</td>\n",
              "      <td>2.0</td>\n",
              "      <td>0.0</td>\n",
              "      <td>Partial College</td>\n",
              "      <td>Skilled Manual</td>\n",
              "      <td>1.0</td>\n",
              "      <td>2.0</td>\n",
              "      <td>1</td>\n",
              "    </tr>\n",
              "    <tr>\n",
              "      <th>4</th>\n",
              "      <td>14209</td>\n",
              "      <td>S</td>\n",
              "      <td>0-25000</td>\n",
              "      <td>F</td>\n",
              "      <td>0.0</td>\n",
              "      <td>0.0</td>\n",
              "      <td>High School</td>\n",
              "      <td>Manual</td>\n",
              "      <td>0.0</td>\n",
              "      <td>2.0</td>\n",
              "      <td>1</td>\n",
              "    </tr>\n",
              "    <tr>\n",
              "      <th>...</th>\n",
              "      <td>...</td>\n",
              "      <td>...</td>\n",
              "      <td>...</td>\n",
              "      <td>...</td>\n",
              "      <td>...</td>\n",
              "      <td>...</td>\n",
              "      <td>...</td>\n",
              "      <td>...</td>\n",
              "      <td>...</td>\n",
              "      <td>...</td>\n",
              "      <td>...</td>\n",
              "    </tr>\n",
              "    <tr>\n",
              "      <th>19615</th>\n",
              "      <td>14445</td>\n",
              "      <td>S</td>\n",
              "      <td>50001-75000</td>\n",
              "      <td>M</td>\n",
              "      <td>0.0</td>\n",
              "      <td>0.0</td>\n",
              "      <td>Partial College</td>\n",
              "      <td>Skilled Manual</td>\n",
              "      <td>0.0</td>\n",
              "      <td>2.0</td>\n",
              "      <td>0</td>\n",
              "    </tr>\n",
              "    <tr>\n",
              "      <th>19616</th>\n",
              "      <td>14446</td>\n",
              "      <td>S</td>\n",
              "      <td>50001-75000</td>\n",
              "      <td>M</td>\n",
              "      <td>1.0</td>\n",
              "      <td>0.0</td>\n",
              "      <td>Partial College</td>\n",
              "      <td>Skilled Manual</td>\n",
              "      <td>0.0</td>\n",
              "      <td>1.0</td>\n",
              "      <td>1</td>\n",
              "    </tr>\n",
              "    <tr>\n",
              "      <th>19617</th>\n",
              "      <td>14075</td>\n",
              "      <td>S</td>\n",
              "      <td>0-25000</td>\n",
              "      <td>M</td>\n",
              "      <td>5.0</td>\n",
              "      <td>3.0</td>\n",
              "      <td>Partial High School</td>\n",
              "      <td>Manual</td>\n",
              "      <td>1.0</td>\n",
              "      <td>2.0</td>\n",
              "      <td>1</td>\n",
              "    </tr>\n",
              "    <tr>\n",
              "      <th>19618</th>\n",
              "      <td>14084</td>\n",
              "      <td>S</td>\n",
              "      <td>50001-75000</td>\n",
              "      <td>M</td>\n",
              "      <td>1.0</td>\n",
              "      <td>0.0</td>\n",
              "      <td>Bachelors</td>\n",
              "      <td>Professional</td>\n",
              "      <td>1.0</td>\n",
              "      <td>1.0</td>\n",
              "      <td>1</td>\n",
              "    </tr>\n",
              "    <tr>\n",
              "      <th>19619</th>\n",
              "      <td>14107</td>\n",
              "      <td>S</td>\n",
              "      <td>75001-100000</td>\n",
              "      <td>M</td>\n",
              "      <td>0.0</td>\n",
              "      <td>0.0</td>\n",
              "      <td>Bachelors</td>\n",
              "      <td>Management</td>\n",
              "      <td>1.0</td>\n",
              "      <td>1.0</td>\n",
              "      <td>1</td>\n",
              "    </tr>\n",
              "  </tbody>\n",
              "</table>\n",
              "<p>18484 rows × 11 columns</p>\n",
              "</div>\n",
              "      <button class=\"colab-df-convert\" onclick=\"convertToInteractive('df-d7d22200-1203-4240-b63d-de38f4528475')\"\n",
              "              title=\"Convert this dataframe to an interactive table.\"\n",
              "              style=\"display:none;\">\n",
              "        \n",
              "  <svg xmlns=\"http://www.w3.org/2000/svg\" height=\"24px\"viewBox=\"0 0 24 24\"\n",
              "       width=\"24px\">\n",
              "    <path d=\"M0 0h24v24H0V0z\" fill=\"none\"/>\n",
              "    <path d=\"M18.56 5.44l.94 2.06.94-2.06 2.06-.94-2.06-.94-.94-2.06-.94 2.06-2.06.94zm-11 1L8.5 8.5l.94-2.06 2.06-.94-2.06-.94L8.5 2.5l-.94 2.06-2.06.94zm10 10l.94 2.06.94-2.06 2.06-.94-2.06-.94-.94-2.06-.94 2.06-2.06.94z\"/><path d=\"M17.41 7.96l-1.37-1.37c-.4-.4-.92-.59-1.43-.59-.52 0-1.04.2-1.43.59L10.3 9.45l-7.72 7.72c-.78.78-.78 2.05 0 2.83L4 21.41c.39.39.9.59 1.41.59.51 0 1.02-.2 1.41-.59l7.78-7.78 2.81-2.81c.8-.78.8-2.07 0-2.86zM5.41 20L4 18.59l7.72-7.72 1.47 1.35L5.41 20z\"/>\n",
              "  </svg>\n",
              "      </button>\n",
              "      \n",
              "  <style>\n",
              "    .colab-df-container {\n",
              "      display:flex;\n",
              "      flex-wrap:wrap;\n",
              "      gap: 12px;\n",
              "    }\n",
              "\n",
              "    .colab-df-convert {\n",
              "      background-color: #E8F0FE;\n",
              "      border: none;\n",
              "      border-radius: 50%;\n",
              "      cursor: pointer;\n",
              "      display: none;\n",
              "      fill: #1967D2;\n",
              "      height: 32px;\n",
              "      padding: 0 0 0 0;\n",
              "      width: 32px;\n",
              "    }\n",
              "\n",
              "    .colab-df-convert:hover {\n",
              "      background-color: #E2EBFA;\n",
              "      box-shadow: 0px 1px 2px rgba(60, 64, 67, 0.3), 0px 1px 3px 1px rgba(60, 64, 67, 0.15);\n",
              "      fill: #174EA6;\n",
              "    }\n",
              "\n",
              "    [theme=dark] .colab-df-convert {\n",
              "      background-color: #3B4455;\n",
              "      fill: #D2E3FC;\n",
              "    }\n",
              "\n",
              "    [theme=dark] .colab-df-convert:hover {\n",
              "      background-color: #434B5C;\n",
              "      box-shadow: 0px 1px 3px 1px rgba(0, 0, 0, 0.15);\n",
              "      filter: drop-shadow(0px 1px 2px rgba(0, 0, 0, 0.3));\n",
              "      fill: #FFFFFF;\n",
              "    }\n",
              "  </style>\n",
              "\n",
              "      <script>\n",
              "        const buttonEl =\n",
              "          document.querySelector('#df-d7d22200-1203-4240-b63d-de38f4528475 button.colab-df-convert');\n",
              "        buttonEl.style.display =\n",
              "          google.colab.kernel.accessAllowed ? 'block' : 'none';\n",
              "\n",
              "        async function convertToInteractive(key) {\n",
              "          const element = document.querySelector('#df-d7d22200-1203-4240-b63d-de38f4528475');\n",
              "          const dataTable =\n",
              "            await google.colab.kernel.invokeFunction('convertToInteractive',\n",
              "                                                     [key], {});\n",
              "          if (!dataTable) return;\n",
              "\n",
              "          const docLinkHtml = 'Like what you see? Visit the ' +\n",
              "            '<a target=\"_blank\" href=https://colab.research.google.com/notebooks/data_table.ipynb>data table notebook</a>'\n",
              "            + ' to learn more about interactive tables.';\n",
              "          element.innerHTML = '';\n",
              "          dataTable['output_type'] = 'display_data';\n",
              "          await google.colab.output.renderOutput(dataTable, element);\n",
              "          const docLink = document.createElement('div');\n",
              "          docLink.innerHTML = docLinkHtml;\n",
              "          element.appendChild(docLink);\n",
              "        }\n",
              "      </script>\n",
              "    </div>\n",
              "  </div>\n",
              "  "
            ],
            "text/plain": [
              "       BusinessEntityID MaritalStatus  YearlyIncome Gender  TotalChildren  \\\n",
              "0                 14116             S       0-25000      F            2.0   \n",
              "1                 14173             S   25001-50000      M            4.0   \n",
              "2                 14175             S   25001-50000      M            1.0   \n",
              "3                 14182             S   25001-50000      F            2.0   \n",
              "4                 14209             S       0-25000      F            0.0   \n",
              "...                 ...           ...           ...    ...            ...   \n",
              "19615             14445             S   50001-75000      M            0.0   \n",
              "19616             14446             S   50001-75000      M            1.0   \n",
              "19617             14075             S       0-25000      M            5.0   \n",
              "19618             14084             S   50001-75000      M            1.0   \n",
              "19619             14107             S  75001-100000      M            0.0   \n",
              "\n",
              "       NumberChildrenAtHome            Education      Occupation  \\\n",
              "0                       2.0          High School          Manual   \n",
              "1                       2.0          High School  Skilled Manual   \n",
              "2                       0.0           Bachelors         Clerical   \n",
              "3                       0.0      Partial College  Skilled Manual   \n",
              "4                       0.0          High School          Manual   \n",
              "...                     ...                  ...             ...   \n",
              "19615                   0.0      Partial College  Skilled Manual   \n",
              "19616                   0.0      Partial College  Skilled Manual   \n",
              "19617                   3.0  Partial High School          Manual   \n",
              "19618                   0.0           Bachelors     Professional   \n",
              "19619                   0.0           Bachelors       Management   \n",
              "\n",
              "       HomeOwnerFlag  NumberCarsOwned  BikeBuyer   \n",
              "0                1.0              0.0           1  \n",
              "1                1.0              2.0           0  \n",
              "2                0.0              1.0           0  \n",
              "3                1.0              2.0           1  \n",
              "4                0.0              2.0           1  \n",
              "...              ...              ...         ...  \n",
              "19615            0.0              2.0           0  \n",
              "19616            0.0              1.0           1  \n",
              "19617            1.0              2.0           1  \n",
              "19618            1.0              1.0           1  \n",
              "19619            1.0              1.0           1  \n",
              "\n",
              "[18484 rows x 11 columns]"
            ]
          },
          "metadata": {},
          "execution_count": 10
        }
      ]
    },
    {
      "cell_type": "code",
      "source": [
        "sum(df.duplicated())"
      ],
      "metadata": {
        "colab": {
          "base_uri": "https://localhost:8080/"
        },
        "id": "5mNkNe_IOgNY",
        "outputId": "7886ca34-5682-4fff-ba4e-3d1b2e2c196c"
      },
      "execution_count": null,
      "outputs": [
        {
          "output_type": "execute_result",
          "data": {
            "text/plain": [
              "0"
            ]
          },
          "metadata": {},
          "execution_count": 11
        }
      ]
    },
    {
      "cell_type": "markdown",
      "source": [
        "=> Không có dữ liệu trùng"
      ],
      "metadata": {
        "id": "snFefaKmPCCs"
      }
    },
    {
      "cell_type": "code",
      "source": [
        "df.describe(include='all')"
      ],
      "metadata": {
        "colab": {
          "base_uri": "https://localhost:8080/",
          "height": 394
        },
        "id": "wTDaDNFwLZy1",
        "outputId": "0b5e8d6a-432e-4866-feb1-1c6941162e93"
      },
      "execution_count": null,
      "outputs": [
        {
          "output_type": "execute_result",
          "data": {
            "text/html": [
              "\n",
              "  <div id=\"df-264d5847-b8f0-4e1a-b296-1a05412487ac\">\n",
              "    <div class=\"colab-df-container\">\n",
              "      <div>\n",
              "<style scoped>\n",
              "    .dataframe tbody tr th:only-of-type {\n",
              "        vertical-align: middle;\n",
              "    }\n",
              "\n",
              "    .dataframe tbody tr th {\n",
              "        vertical-align: top;\n",
              "    }\n",
              "\n",
              "    .dataframe thead th {\n",
              "        text-align: right;\n",
              "    }\n",
              "</style>\n",
              "<table border=\"1\" class=\"dataframe\">\n",
              "  <thead>\n",
              "    <tr style=\"text-align: right;\">\n",
              "      <th></th>\n",
              "      <th>BusinessEntityID</th>\n",
              "      <th>MaritalStatus</th>\n",
              "      <th>YearlyIncome</th>\n",
              "      <th>Gender</th>\n",
              "      <th>TotalChildren</th>\n",
              "      <th>NumberChildrenAtHome</th>\n",
              "      <th>Education</th>\n",
              "      <th>Occupation</th>\n",
              "      <th>HomeOwnerFlag</th>\n",
              "      <th>NumberCarsOwned</th>\n",
              "      <th>BikeBuyer</th>\n",
              "    </tr>\n",
              "  </thead>\n",
              "  <tbody>\n",
              "    <tr>\n",
              "      <th>count</th>\n",
              "      <td>19972.000000</td>\n",
              "      <td>18484</td>\n",
              "      <td>18484</td>\n",
              "      <td>18484</td>\n",
              "      <td>18484.000000</td>\n",
              "      <td>18484.000000</td>\n",
              "      <td>18484</td>\n",
              "      <td>18484</td>\n",
              "      <td>18484.000000</td>\n",
              "      <td>18484.000000</td>\n",
              "      <td>19972.000000</td>\n",
              "    </tr>\n",
              "    <tr>\n",
              "      <th>unique</th>\n",
              "      <td>NaN</td>\n",
              "      <td>2</td>\n",
              "      <td>5</td>\n",
              "      <td>2</td>\n",
              "      <td>NaN</td>\n",
              "      <td>NaN</td>\n",
              "      <td>5</td>\n",
              "      <td>5</td>\n",
              "      <td>NaN</td>\n",
              "      <td>NaN</td>\n",
              "      <td>NaN</td>\n",
              "    </tr>\n",
              "    <tr>\n",
              "      <th>top</th>\n",
              "      <td>NaN</td>\n",
              "      <td>M</td>\n",
              "      <td>25001-50000</td>\n",
              "      <td>M</td>\n",
              "      <td>NaN</td>\n",
              "      <td>NaN</td>\n",
              "      <td>Bachelors</td>\n",
              "      <td>Professional</td>\n",
              "      <td>NaN</td>\n",
              "      <td>NaN</td>\n",
              "      <td>NaN</td>\n",
              "    </tr>\n",
              "    <tr>\n",
              "      <th>freq</th>\n",
              "      <td>NaN</td>\n",
              "      <td>10011</td>\n",
              "      <td>5704</td>\n",
              "      <td>9351</td>\n",
              "      <td>NaN</td>\n",
              "      <td>NaN</td>\n",
              "      <td>5356</td>\n",
              "      <td>5520</td>\n",
              "      <td>NaN</td>\n",
              "      <td>NaN</td>\n",
              "      <td>NaN</td>\n",
              "    </tr>\n",
              "    <tr>\n",
              "      <th>mean</th>\n",
              "      <td>10763.079411</td>\n",
              "      <td>NaN</td>\n",
              "      <td>NaN</td>\n",
              "      <td>NaN</td>\n",
              "      <td>1.844352</td>\n",
              "      <td>1.004058</td>\n",
              "      <td>NaN</td>\n",
              "      <td>NaN</td>\n",
              "      <td>0.676369</td>\n",
              "      <td>1.502705</td>\n",
              "      <td>0.486631</td>\n",
              "    </tr>\n",
              "    <tr>\n",
              "      <th>std</th>\n",
              "      <td>5814.133272</td>\n",
              "      <td>NaN</td>\n",
              "      <td>NaN</td>\n",
              "      <td>NaN</td>\n",
              "      <td>1.612408</td>\n",
              "      <td>1.522660</td>\n",
              "      <td>NaN</td>\n",
              "      <td>NaN</td>\n",
              "      <td>0.467874</td>\n",
              "      <td>1.138394</td>\n",
              "      <td>0.499834</td>\n",
              "    </tr>\n",
              "    <tr>\n",
              "      <th>min</th>\n",
              "      <td>1.000000</td>\n",
              "      <td>NaN</td>\n",
              "      <td>NaN</td>\n",
              "      <td>NaN</td>\n",
              "      <td>0.000000</td>\n",
              "      <td>0.000000</td>\n",
              "      <td>NaN</td>\n",
              "      <td>NaN</td>\n",
              "      <td>0.000000</td>\n",
              "      <td>0.000000</td>\n",
              "      <td>0.000000</td>\n",
              "    </tr>\n",
              "    <tr>\n",
              "      <th>25%</th>\n",
              "      <td>5798.750000</td>\n",
              "      <td>NaN</td>\n",
              "      <td>NaN</td>\n",
              "      <td>NaN</td>\n",
              "      <td>0.000000</td>\n",
              "      <td>0.000000</td>\n",
              "      <td>NaN</td>\n",
              "      <td>NaN</td>\n",
              "      <td>0.000000</td>\n",
              "      <td>1.000000</td>\n",
              "      <td>0.000000</td>\n",
              "    </tr>\n",
              "    <tr>\n",
              "      <th>50%</th>\n",
              "      <td>10791.500000</td>\n",
              "      <td>NaN</td>\n",
              "      <td>NaN</td>\n",
              "      <td>NaN</td>\n",
              "      <td>2.000000</td>\n",
              "      <td>0.000000</td>\n",
              "      <td>NaN</td>\n",
              "      <td>NaN</td>\n",
              "      <td>1.000000</td>\n",
              "      <td>2.000000</td>\n",
              "      <td>0.000000</td>\n",
              "    </tr>\n",
              "    <tr>\n",
              "      <th>75%</th>\n",
              "      <td>15784.250000</td>\n",
              "      <td>NaN</td>\n",
              "      <td>NaN</td>\n",
              "      <td>NaN</td>\n",
              "      <td>3.000000</td>\n",
              "      <td>2.000000</td>\n",
              "      <td>NaN</td>\n",
              "      <td>NaN</td>\n",
              "      <td>1.000000</td>\n",
              "      <td>2.000000</td>\n",
              "      <td>1.000000</td>\n",
              "    </tr>\n",
              "    <tr>\n",
              "      <th>max</th>\n",
              "      <td>20777.000000</td>\n",
              "      <td>NaN</td>\n",
              "      <td>NaN</td>\n",
              "      <td>NaN</td>\n",
              "      <td>5.000000</td>\n",
              "      <td>5.000000</td>\n",
              "      <td>NaN</td>\n",
              "      <td>NaN</td>\n",
              "      <td>1.000000</td>\n",
              "      <td>4.000000</td>\n",
              "      <td>1.000000</td>\n",
              "    </tr>\n",
              "  </tbody>\n",
              "</table>\n",
              "</div>\n",
              "      <button class=\"colab-df-convert\" onclick=\"convertToInteractive('df-264d5847-b8f0-4e1a-b296-1a05412487ac')\"\n",
              "              title=\"Convert this dataframe to an interactive table.\"\n",
              "              style=\"display:none;\">\n",
              "        \n",
              "  <svg xmlns=\"http://www.w3.org/2000/svg\" height=\"24px\"viewBox=\"0 0 24 24\"\n",
              "       width=\"24px\">\n",
              "    <path d=\"M0 0h24v24H0V0z\" fill=\"none\"/>\n",
              "    <path d=\"M18.56 5.44l.94 2.06.94-2.06 2.06-.94-2.06-.94-.94-2.06-.94 2.06-2.06.94zm-11 1L8.5 8.5l.94-2.06 2.06-.94-2.06-.94L8.5 2.5l-.94 2.06-2.06.94zm10 10l.94 2.06.94-2.06 2.06-.94-2.06-.94-.94-2.06-.94 2.06-2.06.94z\"/><path d=\"M17.41 7.96l-1.37-1.37c-.4-.4-.92-.59-1.43-.59-.52 0-1.04.2-1.43.59L10.3 9.45l-7.72 7.72c-.78.78-.78 2.05 0 2.83L4 21.41c.39.39.9.59 1.41.59.51 0 1.02-.2 1.41-.59l7.78-7.78 2.81-2.81c.8-.78.8-2.07 0-2.86zM5.41 20L4 18.59l7.72-7.72 1.47 1.35L5.41 20z\"/>\n",
              "  </svg>\n",
              "      </button>\n",
              "      \n",
              "  <style>\n",
              "    .colab-df-container {\n",
              "      display:flex;\n",
              "      flex-wrap:wrap;\n",
              "      gap: 12px;\n",
              "    }\n",
              "\n",
              "    .colab-df-convert {\n",
              "      background-color: #E8F0FE;\n",
              "      border: none;\n",
              "      border-radius: 50%;\n",
              "      cursor: pointer;\n",
              "      display: none;\n",
              "      fill: #1967D2;\n",
              "      height: 32px;\n",
              "      padding: 0 0 0 0;\n",
              "      width: 32px;\n",
              "    }\n",
              "\n",
              "    .colab-df-convert:hover {\n",
              "      background-color: #E2EBFA;\n",
              "      box-shadow: 0px 1px 2px rgba(60, 64, 67, 0.3), 0px 1px 3px 1px rgba(60, 64, 67, 0.15);\n",
              "      fill: #174EA6;\n",
              "    }\n",
              "\n",
              "    [theme=dark] .colab-df-convert {\n",
              "      background-color: #3B4455;\n",
              "      fill: #D2E3FC;\n",
              "    }\n",
              "\n",
              "    [theme=dark] .colab-df-convert:hover {\n",
              "      background-color: #434B5C;\n",
              "      box-shadow: 0px 1px 3px 1px rgba(0, 0, 0, 0.15);\n",
              "      filter: drop-shadow(0px 1px 2px rgba(0, 0, 0, 0.3));\n",
              "      fill: #FFFFFF;\n",
              "    }\n",
              "  </style>\n",
              "\n",
              "      <script>\n",
              "        const buttonEl =\n",
              "          document.querySelector('#df-264d5847-b8f0-4e1a-b296-1a05412487ac button.colab-df-convert');\n",
              "        buttonEl.style.display =\n",
              "          google.colab.kernel.accessAllowed ? 'block' : 'none';\n",
              "\n",
              "        async function convertToInteractive(key) {\n",
              "          const element = document.querySelector('#df-264d5847-b8f0-4e1a-b296-1a05412487ac');\n",
              "          const dataTable =\n",
              "            await google.colab.kernel.invokeFunction('convertToInteractive',\n",
              "                                                     [key], {});\n",
              "          if (!dataTable) return;\n",
              "\n",
              "          const docLinkHtml = 'Like what you see? Visit the ' +\n",
              "            '<a target=\"_blank\" href=https://colab.research.google.com/notebooks/data_table.ipynb>data table notebook</a>'\n",
              "            + ' to learn more about interactive tables.';\n",
              "          element.innerHTML = '';\n",
              "          dataTable['output_type'] = 'display_data';\n",
              "          await google.colab.output.renderOutput(dataTable, element);\n",
              "          const docLink = document.createElement('div');\n",
              "          docLink.innerHTML = docLinkHtml;\n",
              "          element.appendChild(docLink);\n",
              "        }\n",
              "      </script>\n",
              "    </div>\n",
              "  </div>\n",
              "  "
            ],
            "text/plain": [
              "        BusinessEntityID MaritalStatus YearlyIncome Gender  TotalChildren  \\\n",
              "count       19972.000000         18484        18484  18484   18484.000000   \n",
              "unique               NaN             2            5      2            NaN   \n",
              "top                  NaN             M  25001-50000      M            NaN   \n",
              "freq                 NaN         10011         5704   9351            NaN   \n",
              "mean        10763.079411           NaN          NaN    NaN       1.844352   \n",
              "std          5814.133272           NaN          NaN    NaN       1.612408   \n",
              "min             1.000000           NaN          NaN    NaN       0.000000   \n",
              "25%          5798.750000           NaN          NaN    NaN       0.000000   \n",
              "50%         10791.500000           NaN          NaN    NaN       2.000000   \n",
              "75%         15784.250000           NaN          NaN    NaN       3.000000   \n",
              "max         20777.000000           NaN          NaN    NaN       5.000000   \n",
              "\n",
              "        NumberChildrenAtHome   Education    Occupation  HomeOwnerFlag  \\\n",
              "count           18484.000000       18484         18484   18484.000000   \n",
              "unique                   NaN           5             5            NaN   \n",
              "top                      NaN  Bachelors   Professional            NaN   \n",
              "freq                     NaN        5356          5520            NaN   \n",
              "mean                1.004058         NaN           NaN       0.676369   \n",
              "std                 1.522660         NaN           NaN       0.467874   \n",
              "min                 0.000000         NaN           NaN       0.000000   \n",
              "25%                 0.000000         NaN           NaN       0.000000   \n",
              "50%                 0.000000         NaN           NaN       1.000000   \n",
              "75%                 2.000000         NaN           NaN       1.000000   \n",
              "max                 5.000000         NaN           NaN       1.000000   \n",
              "\n",
              "        NumberCarsOwned    BikeBuyer   \n",
              "count      18484.000000  19972.000000  \n",
              "unique              NaN           NaN  \n",
              "top                 NaN           NaN  \n",
              "freq                NaN           NaN  \n",
              "mean           1.502705      0.486631  \n",
              "std            1.138394      0.499834  \n",
              "min            0.000000      0.000000  \n",
              "25%            1.000000      0.000000  \n",
              "50%            2.000000      0.000000  \n",
              "75%            2.000000      1.000000  \n",
              "max            4.000000      1.000000  "
            ]
          },
          "metadata": {},
          "execution_count": 12
        }
      ]
    },
    {
      "cell_type": "markdown",
      "metadata": {
        "id": "mJDWkqqDZrTy"
      },
      "source": [
        "column BAD là cột định danh"
      ]
    },
    {
      "cell_type": "markdown",
      "metadata": {
        "id": "vfJod_XqrGZA"
      },
      "source": [
        "column MaritalStatus, YearlyIncome, Gender, Education, Occupation là dữ liệu String nên không thể mô tả"
      ]
    },
    {
      "cell_type": "markdown",
      "source": [
        "column TotalChildren"
      ],
      "metadata": {
        "id": "U4DzCfdC148J"
      }
    },
    {
      "cell_type": "code",
      "metadata": {
        "id": "avQK3D15E50-"
      },
      "source": [
        "# Độ lệch chuẩn chỉ bằng 1.612408\t có nghĩa là có số trẻ thấp hơn điểm trung bình nhiêu và cũng có số trẻ lớn hơn điểm trung bình nhiêu\n",
        "# mean(0) < mode(2) < median(3). Vậy dữ liệu phân phối phân phối lệch phải\n",
        "# Min (0) cách Max (5) . Vậy range của dữ liệu rất ngắn [0; 5]"
      ],
      "execution_count": null,
      "outputs": []
    },
    {
      "cell_type": "markdown",
      "metadata": {
        "id": "I5MDWWCidIzV"
      },
      "source": [
        "column NumberChildrenAtHome"
      ]
    },
    {
      "cell_type": "code",
      "metadata": {
        "id": "zUmuqo6XdLOT"
      },
      "source": [
        "# Độ lệch chuẩn bằng 1.522660 có nghĩa là có số trẻ tại nhà thấp hơn điểm trung bình nhiêu và cũng có số trẻ tại nhà lớn hơn điểm trung bình nhiêu\n",
        "# Mode (0) = median (0) < mean (2). Vậy có nghĩa dữ liệu phân phối lệch phải\n",
        "# Min (0) cách Max (5) . Vậy range của dữ liệu rất ngắn [0; 5]"
      ],
      "execution_count": null,
      "outputs": []
    },
    {
      "cell_type": "markdown",
      "metadata": {
        "id": "EMxNwkWqhKWD"
      },
      "source": [
        "column HomeOwnerFlag\t"
      ]
    },
    {
      "cell_type": "code",
      "metadata": {
        "id": "hpngnV8HhQvJ"
      },
      "source": [
        "# Độ lệch chuẩn bằng 0.467874 chứng tỏ Số lượng khách có sở hữu nhà tập trung quanh điểm trung bình (0.676369\t). Vậy có thể cho là phần lớn khách có nhà\n",
        "# Mode (0) < median (1)) = mean (1). Vậy dữ liệu phân phối lệch phải\n",
        "# Min (0) cách Max (1) . Vậy range của dữ liệu [0; 1]"
      ],
      "execution_count": null,
      "outputs": []
    },
    {
      "cell_type": "markdown",
      "metadata": {
        "id": "zy01rUTXpoh9"
      },
      "source": [
        "column NumberCarsOwned"
      ]
    },
    {
      "cell_type": "code",
      "metadata": {
        "id": "yDO8A9dlpr6W"
      },
      "source": [
        "# Độ lệch chuẩn bằng \t1.138394\tcó nghĩa là có số xe sở hữu hiện tại thấp hơn điểm trung bình và cũng có số xe sở hữu hiện tại lớn hơn điểm trung bình\n",
        "# Mode (1) < median (2) = mean (2). Vậy dữ liệu phân phối lệch phải\n",
        "# Min (0) cách Max (4). Vậy range của dữ liệu [0;4]"
      ],
      "execution_count": null,
      "outputs": []
    },
    {
      "cell_type": "markdown",
      "metadata": {
        "id": "tUws2joGraEe"
      },
      "source": [
        "column\tBikeBuyer"
      ]
    },
    {
      "cell_type": "code",
      "metadata": {
        "id": "QDyEBRD7rfT9"
      },
      "source": [
        "# Độ lệch chuẩn bằng \t0.499834 chứng tỏ Số lượng khách mua xe đạp tập trung quanh điểm trung bình (0.486631). Vậy có thể cho phần lớn là khách mua xe đạp\n",
        "# Mode (0) = median (0) < mean (1). Vậy dữ liệu phân phối lệch phải\n",
        "# Min (0) cách Max (1) . Vậy range của dữ liệu [0; 1]"
      ],
      "execution_count": null,
      "outputs": []
    },
    {
      "cell_type": "code",
      "source": [
        "df.columns"
      ],
      "metadata": {
        "colab": {
          "base_uri": "https://localhost:8080/"
        },
        "id": "eK5EjGTcLlmG",
        "outputId": "83f06567-45a7-44fc-8546-61304016bfee"
      },
      "execution_count": null,
      "outputs": [
        {
          "output_type": "execute_result",
          "data": {
            "text/plain": [
              "Index(['BusinessEntityID', 'MaritalStatus', 'YearlyIncome', 'Gender',\n",
              "       'TotalChildren', 'NumberChildrenAtHome', 'Education', 'Occupation',\n",
              "       'HomeOwnerFlag', 'NumberCarsOwned', 'BikeBuyer '],\n",
              "      dtype='object')"
            ]
          },
          "metadata": {},
          "execution_count": 13
        }
      ]
    },
    {
      "cell_type": "markdown",
      "source": [
        "Có 11 cột"
      ],
      "metadata": {
        "id": "hjLYU0ic6I8J"
      }
    },
    {
      "cell_type": "code",
      "source": [
        "# Histogramas das variávis explicativa numericas \n",
        "numeric_feats = [c for c in df.columns if df[c].dtype != 'object'and c not in ['BikeBuyer']]\n",
        "df_numeric_feats = df[numeric_feats]\n",
        "\n",
        "df_numeric_feats.hist(figsize=(20,8), bins=30)"
      ],
      "metadata": {
        "colab": {
          "base_uri": "https://localhost:8080/",
          "height": 622
        },
        "id": "ffkmKJ-VMvQj",
        "outputId": "60198b86-533c-4804-e976-4428e5fa803e"
      },
      "execution_count": null,
      "outputs": [
        {
          "output_type": "execute_result",
          "data": {
            "text/plain": [
              "array([[<matplotlib.axes._subplots.AxesSubplot object at 0x7f08a87a1f50>,\n",
              "        <matplotlib.axes._subplots.AxesSubplot object at 0x7f08a8778690>],\n",
              "       [<matplotlib.axes._subplots.AxesSubplot object at 0x7f08a872ec50>,\n",
              "        <matplotlib.axes._subplots.AxesSubplot object at 0x7f08a86f1290>],\n",
              "       [<matplotlib.axes._subplots.AxesSubplot object at 0x7f08a86a6890>,\n",
              "        <matplotlib.axes._subplots.AxesSubplot object at 0x7f08a865de90>]],\n",
              "      dtype=object)"
            ]
          },
          "metadata": {},
          "execution_count": 14
        },
        {
          "output_type": "display_data",
          "data": {
            "image/png": "[encoded data removed]",
            "text/plain": [
              "<Figure size 1440x576 with 6 Axes>"
            ]
          },
          "metadata": {
            "needs_background": "light"
          }
        }
      ]
    },
    {
      "cell_type": "markdown",
      "source": [
        "TotalChildren, NumberChildrenAtHome số trẻ em phân phối không đồng đều. Phần lớn khong có trẻ, trẻ tại nhà\n",
        "\n",
        "HomeOwerFlag phần lớn khách có nhà\n",
        "\n",
        "NumberCarOwned số xe khách sở hữu phân phối không đồng đều. Phần lớn khách có xe \n",
        "\n",
        "BikeBuyer số khách mua và không mua xấp xỉ nha. Khách không mua nhiều hơn khách mua"
      ],
      "metadata": {
        "id": "GFUzIsXZM68m"
      }
    },
    {
      "cell_type": "code",
      "source": [
        "category_features = df.select_dtypes(include=['object', 'bool']).columns.values"
      ],
      "metadata": {
        "id": "xHO3UrEehfGD"
      },
      "execution_count": null,
      "outputs": []
    },
    {
      "cell_type": "code",
      "source": [
        "for col in category_features:\n",
        "    print(f\"\\033[1m\\033[94m{col} \\n{20 * '-'}\\033[0m\")    \n",
        "    print(df[col].value_counts(), \"\\n\")\n",
        "    \n",
        "print(df.nunique(axis=1))"
      ],
      "metadata": {
        "colab": {
          "base_uri": "https://localhost:8080/"
        },
        "id": "AnnE_HmK44vT",
        "outputId": "fe15f430-d125-4c9e-fc19-75370eff1b2b"
      },
      "execution_count": null,
      "outputs": [
        {
          "output_type": "stream",
          "name": "stdout",
          "text": [
            "\u001b[1m\u001b[94mMaritalStatus \n",
            "--------------------\u001b[0m\n",
            "M    10011\n",
            "S     8473\n",
            "Name: MaritalStatus, dtype: int64 \n",
            "\n",
            "\u001b[1m\u001b[94mYearlyIncome \n",
            "--------------------\u001b[0m\n",
            "25001-50000            5704\n",
            "50001-75000            5476\n",
            "0-25000                2922\n",
            "75001-100000           2755\n",
            "greater than 100000    1627\n",
            "Name: YearlyIncome, dtype: int64 \n",
            "\n",
            "\u001b[1m\u001b[94mGender \n",
            "--------------------\u001b[0m\n",
            "M    9351\n",
            "F    9133\n",
            "Name: Gender, dtype: int64 \n",
            "\n",
            "\u001b[1m\u001b[94mEducation \n",
            "--------------------\u001b[0m\n",
            "Bachelors              5356\n",
            "Partial College        5064\n",
            "High School            3294\n",
            "Graduate Degree        3189\n",
            "Partial High School    1581\n",
            "Name: Education, dtype: int64 \n",
            "\n",
            "\u001b[1m\u001b[94mOccupation \n",
            "--------------------\u001b[0m\n",
            "Professional      5520\n",
            "Skilled Manual    4577\n",
            "Management        3075\n",
            "Clerical          2928\n",
            "Manual            2384\n",
            "Name: Occupation, dtype: int64 \n",
            "\n",
            "0         9\n",
            "1        10\n",
            "2         8\n",
            "3         9\n",
            "4         9\n",
            "         ..\n",
            "19967     2\n",
            "19968     2\n",
            "19969     2\n",
            "19970     2\n",
            "19971     2\n",
            "Length: 19972, dtype: int64\n"
          ]
        }
      ]
    },
    {
      "cell_type": "code",
      "source": [
        "# Visualize feature correlations\n",
        "fig, ax = plt.subplots(figsize=(10,10))  \n",
        "sns.heatmap(df._get_numeric_data().astype(float).corr(),\n",
        "            square=True, cmap='RdBu_r', linewidths=.5,\n",
        "            annot=True, fmt='.2f').figure.tight_layout()\n",
        "plt.show()"
      ],
      "metadata": {
        "colab": {
          "base_uri": "https://localhost:8080/",
          "height": 700
        },
        "id": "Kde_Lidj1lAf",
        "outputId": "6a72a8e3-d50d-4a46-9f9a-599efa8e8574"
      },
      "execution_count": null,
      "outputs": [
        {
          "output_type": "display_data",
          "data": {
            "image/png": "[encoded data removed]",
            "text/plain": [
              "<Figure size 720x720 with 2 Axes>"
            ]
          },
          "metadata": {
            "needs_background": "light"
          }
        }
      ]
    },
    {
      "cell_type": "code",
      "source": [
        "for col in category_features:\n",
        "    plt.figure(figsize=(10,5))    \n",
        "    sns.barplot(df[col].value_counts().values, df[col].value_counts().index, data=df)    \n",
        "    plt.title(col)    \n",
        "    plt.tight_layout()"
      ],
      "metadata": {
        "colab": {
          "base_uri": "https://localhost:8080/",
          "height": 1000
        },
        "id": "FhlXFPjW5K9O",
        "outputId": "f79dbbd7-812b-4db0-d0c6-b7c7258fef9b"
      },
      "execution_count": null,
      "outputs": [
        {
          "output_type": "display_data",
          "data": {
            "image/png": "[encoded data removed]",
            "text/plain": [
              "<Figure size 720x360 with 1 Axes>"
            ]
          },
          "metadata": {
            "needs_background": "light"
          }
        },
        {
          "output_type": "display_data",
          "data": {
            "image/png": "[encoded data removed]",
            "text/plain": [
              "<Figure size 720x360 with 1 Axes>"
            ]
          },
          "metadata": {
            "needs_background": "light"
          }
        },
        {
          "output_type": "display_data",
          "data": {
            "image/png": "[encoded data removed]",
            "text/plain": [
              "<Figure size 720x360 with 1 Axes>"
            ]
          },
          "metadata": {
            "needs_background": "light"
          }
        },
        {
          "output_type": "display_data",
          "data": {
            "image/png": "[encoded data removed]",
            "text/plain": [
              "<Figure size 720x360 with 1 Axes>"
            ]
          },
          "metadata": {
            "needs_background": "light"
          }
        },
        {
          "output_type": "display_data",
          "data": {
            "image/png": "[encoded data removed]",
            "text/plain": [
              "<Figure size 720x360 with 1 Axes>"
            ]
          },
          "metadata": {
            "needs_background": "light"
          }
        }
      ]
    },
    {
      "cell_type": "markdown",
      "source": [
        "MaritalStatus: phần lơn khách kết hôn\n",
        "\n",
        "YearlyIncome: phần lớn khách có thu nhập trung bình\n",
        "\n",
        "Gender: giới tính xấp xỉ nhau\n",
        "\n",
        "Education: phần lớn khách có mức học thức đại học/ cao đẳng\n",
        "\n",
        "Occupation: phần lớn khách có công việc chuyên môn\n"
      ],
      "metadata": {
        "id": "NIt3Fb6u7i2s"
      }
    },
    {
      "cell_type": "code",
      "source": [
        "df.isnull().sum()"
      ],
      "metadata": {
        "colab": {
          "base_uri": "https://localhost:8080/"
        },
        "id": "CoxHepfyQrSV",
        "outputId": "676737e6-aea8-42f5-a426-22c8906f9b0a"
      },
      "execution_count": null,
      "outputs": [
        {
          "output_type": "execute_result",
          "data": {
            "text/plain": [
              "BusinessEntityID           0\n",
              "MaritalStatus           1488\n",
              "YearlyIncome            1488\n",
              "Gender                  1488\n",
              "TotalChildren           1488\n",
              "NumberChildrenAtHome    1488\n",
              "Education               1488\n",
              "Occupation              1488\n",
              "HomeOwnerFlag           1488\n",
              "NumberCarsOwned         1488\n",
              "BikeBuyer                  0\n",
              "dtype: int64"
            ]
          },
          "metadata": {},
          "execution_count": 19
        }
      ]
    },
    {
      "cell_type": "code",
      "source": [
        "df=df.dropna()"
      ],
      "metadata": {
        "id": "W52uV9MqCm3y"
      },
      "execution_count": null,
      "outputs": []
    },
    {
      "cell_type": "code",
      "source": [
        "df.isnull().sum()"
      ],
      "metadata": {
        "colab": {
          "base_uri": "https://localhost:8080/"
        },
        "id": "cwBqiRdACxE7",
        "outputId": "c915df54-a554-4f72-e5e1-f03f2629dab8"
      },
      "execution_count": null,
      "outputs": [
        {
          "output_type": "execute_result",
          "data": {
            "text/plain": [
              "BusinessEntityID        0\n",
              "MaritalStatus           0\n",
              "YearlyIncome            0\n",
              "Gender                  0\n",
              "TotalChildren           0\n",
              "NumberChildrenAtHome    0\n",
              "Education               0\n",
              "Occupation              0\n",
              "HomeOwnerFlag           0\n",
              "NumberCarsOwned         0\n",
              "BikeBuyer               0\n",
              "dtype: int64"
            ]
          },
          "metadata": {},
          "execution_count": 21
        }
      ]
    },
    {
      "cell_type": "code",
      "source": [
        "df.head()"
      ],
      "metadata": {
        "colab": {
          "base_uri": "https://localhost:8080/",
          "height": 206
        },
        "id": "ZQfCvSRARCv4",
        "outputId": "a63d5940-8f6c-4c73-e98b-4bdf9e6d515f"
      },
      "execution_count": null,
      "outputs": [
        {
          "output_type": "execute_result",
          "data": {
            "text/html": [
              "\n",
              "  <div id=\"df-99fe54ba-563d-4ec1-862f-fd883bc430bb\">\n",
              "    <div class=\"colab-df-container\">\n",
              "      <div>\n",
              "<style scoped>\n",
              "    .dataframe tbody tr th:only-of-type {\n",
              "        vertical-align: middle;\n",
              "    }\n",
              "\n",
              "    .dataframe tbody tr th {\n",
              "        vertical-align: top;\n",
              "    }\n",
              "\n",
              "    .dataframe thead th {\n",
              "        text-align: right;\n",
              "    }\n",
              "</style>\n",
              "<table border=\"1\" class=\"dataframe\">\n",
              "  <thead>\n",
              "    <tr style=\"text-align: right;\">\n",
              "      <th></th>\n",
              "      <th>BusinessEntityID</th>\n",
              "      <th>MaritalStatus</th>\n",
              "      <th>YearlyIncome</th>\n",
              "      <th>Gender</th>\n",
              "      <th>TotalChildren</th>\n",
              "      <th>NumberChildrenAtHome</th>\n",
              "      <th>Education</th>\n",
              "      <th>Occupation</th>\n",
              "      <th>HomeOwnerFlag</th>\n",
              "      <th>NumberCarsOwned</th>\n",
              "      <th>BikeBuyer</th>\n",
              "    </tr>\n",
              "  </thead>\n",
              "  <tbody>\n",
              "    <tr>\n",
              "      <th>0</th>\n",
              "      <td>14116</td>\n",
              "      <td>S</td>\n",
              "      <td>0-25000</td>\n",
              "      <td>F</td>\n",
              "      <td>2.0</td>\n",
              "      <td>2.0</td>\n",
              "      <td>High School</td>\n",
              "      <td>Manual</td>\n",
              "      <td>1.0</td>\n",
              "      <td>0.0</td>\n",
              "      <td>1</td>\n",
              "    </tr>\n",
              "    <tr>\n",
              "      <th>1</th>\n",
              "      <td>14173</td>\n",
              "      <td>S</td>\n",
              "      <td>25001-50000</td>\n",
              "      <td>M</td>\n",
              "      <td>4.0</td>\n",
              "      <td>2.0</td>\n",
              "      <td>High School</td>\n",
              "      <td>Skilled Manual</td>\n",
              "      <td>1.0</td>\n",
              "      <td>2.0</td>\n",
              "      <td>0</td>\n",
              "    </tr>\n",
              "    <tr>\n",
              "      <th>2</th>\n",
              "      <td>14175</td>\n",
              "      <td>S</td>\n",
              "      <td>25001-50000</td>\n",
              "      <td>M</td>\n",
              "      <td>1.0</td>\n",
              "      <td>0.0</td>\n",
              "      <td>Bachelors</td>\n",
              "      <td>Clerical</td>\n",
              "      <td>0.0</td>\n",
              "      <td>1.0</td>\n",
              "      <td>0</td>\n",
              "    </tr>\n",
              "    <tr>\n",
              "      <th>3</th>\n",
              "      <td>14182</td>\n",
              "      <td>S</td>\n",
              "      <td>25001-50000</td>\n",
              "      <td>F</td>\n",
              "      <td>2.0</td>\n",
              "      <td>0.0</td>\n",
              "      <td>Partial College</td>\n",
              "      <td>Skilled Manual</td>\n",
              "      <td>1.0</td>\n",
              "      <td>2.0</td>\n",
              "      <td>1</td>\n",
              "    </tr>\n",
              "    <tr>\n",
              "      <th>4</th>\n",
              "      <td>14209</td>\n",
              "      <td>S</td>\n",
              "      <td>0-25000</td>\n",
              "      <td>F</td>\n",
              "      <td>0.0</td>\n",
              "      <td>0.0</td>\n",
              "      <td>High School</td>\n",
              "      <td>Manual</td>\n",
              "      <td>0.0</td>\n",
              "      <td>2.0</td>\n",
              "      <td>1</td>\n",
              "    </tr>\n",
              "  </tbody>\n",
              "</table>\n",
              "</div>\n",
              "      <button class=\"colab-df-convert\" onclick=\"convertToInteractive('df-99fe54ba-563d-4ec1-862f-fd883bc430bb')\"\n",
              "              title=\"Convert this dataframe to an interactive table.\"\n",
              "              style=\"display:none;\">\n",
              "        \n",
              "  <svg xmlns=\"http://www.w3.org/2000/svg\" height=\"24px\"viewBox=\"0 0 24 24\"\n",
              "       width=\"24px\">\n",
              "    <path d=\"M0 0h24v24H0V0z\" fill=\"none\"/>\n",
              "    <path d=\"M18.56 5.44l.94 2.06.94-2.06 2.06-.94-2.06-.94-.94-2.06-.94 2.06-2.06.94zm-11 1L8.5 8.5l.94-2.06 2.06-.94-2.06-.94L8.5 2.5l-.94 2.06-2.06.94zm10 10l.94 2.06.94-2.06 2.06-.94-2.06-.94-.94-2.06-.94 2.06-2.06.94z\"/><path d=\"M17.41 7.96l-1.37-1.37c-.4-.4-.92-.59-1.43-.59-.52 0-1.04.2-1.43.59L10.3 9.45l-7.72 7.72c-.78.78-.78 2.05 0 2.83L4 21.41c.39.39.9.59 1.41.59.51 0 1.02-.2 1.41-.59l7.78-7.78 2.81-2.81c.8-.78.8-2.07 0-2.86zM5.41 20L4 18.59l7.72-7.72 1.47 1.35L5.41 20z\"/>\n",
              "  </svg>\n",
              "      </button>\n",
              "      \n",
              "  <style>\n",
              "    .colab-df-container {\n",
              "      display:flex;\n",
              "      flex-wrap:wrap;\n",
              "      gap: 12px;\n",
              "    }\n",
              "\n",
              "    .colab-df-convert {\n",
              "      background-color: #E8F0FE;\n",
              "      border: none;\n",
              "      border-radius: 50%;\n",
              "      cursor: pointer;\n",
              "      display: none;\n",
              "      fill: #1967D2;\n",
              "      height: 32px;\n",
              "      padding: 0 0 0 0;\n",
              "      width: 32px;\n",
              "    }\n",
              "\n",
              "    .colab-df-convert:hover {\n",
              "      background-color: #E2EBFA;\n",
              "      box-shadow: 0px 1px 2px rgba(60, 64, 67, 0.3), 0px 1px 3px 1px rgba(60, 64, 67, 0.15);\n",
              "      fill: #174EA6;\n",
              "    }\n",
              "\n",
              "    [theme=dark] .colab-df-convert {\n",
              "      background-color: #3B4455;\n",
              "      fill: #D2E3FC;\n",
              "    }\n",
              "\n",
              "    [theme=dark] .colab-df-convert:hover {\n",
              "      background-color: #434B5C;\n",
              "      box-shadow: 0px 1px 3px 1px rgba(0, 0, 0, 0.15);\n",
              "      filter: drop-shadow(0px 1px 2px rgba(0, 0, 0, 0.3));\n",
              "      fill: #FFFFFF;\n",
              "    }\n",
              "  </style>\n",
              "\n",
              "      <script>\n",
              "        const buttonEl =\n",
              "          document.querySelector('#df-99fe54ba-563d-4ec1-862f-fd883bc430bb button.colab-df-convert');\n",
              "        buttonEl.style.display =\n",
              "          google.colab.kernel.accessAllowed ? 'block' : 'none';\n",
              "\n",
              "        async function convertToInteractive(key) {\n",
              "          const element = document.querySelector('#df-99fe54ba-563d-4ec1-862f-fd883bc430bb');\n",
              "          const dataTable =\n",
              "            await google.colab.kernel.invokeFunction('convertToInteractive',\n",
              "                                                     [key], {});\n",
              "          if (!dataTable) return;\n",
              "\n",
              "          const docLinkHtml = 'Like what you see? Visit the ' +\n",
              "            '<a target=\"_blank\" href=https://colab.research.google.com/notebooks/data_table.ipynb>data table notebook</a>'\n",
              "            + ' to learn more about interactive tables.';\n",
              "          element.innerHTML = '';\n",
              "          dataTable['output_type'] = 'display_data';\n",
              "          await google.colab.output.renderOutput(dataTable, element);\n",
              "          const docLink = document.createElement('div');\n",
              "          docLink.innerHTML = docLinkHtml;\n",
              "          element.appendChild(docLink);\n",
              "        }\n",
              "      </script>\n",
              "    </div>\n",
              "  </div>\n",
              "  "
            ],
            "text/plain": [
              "   BusinessEntityID MaritalStatus YearlyIncome Gender  TotalChildren  \\\n",
              "0             14116             S      0-25000      F            2.0   \n",
              "1             14173             S  25001-50000      M            4.0   \n",
              "2             14175             S  25001-50000      M            1.0   \n",
              "3             14182             S  25001-50000      F            2.0   \n",
              "4             14209             S      0-25000      F            0.0   \n",
              "\n",
              "   NumberChildrenAtHome        Education      Occupation  HomeOwnerFlag  \\\n",
              "0                   2.0      High School          Manual            1.0   \n",
              "1                   2.0      High School  Skilled Manual            1.0   \n",
              "2                   0.0       Bachelors         Clerical            0.0   \n",
              "3                   0.0  Partial College  Skilled Manual            1.0   \n",
              "4                   0.0      High School          Manual            0.0   \n",
              "\n",
              "   NumberCarsOwned  BikeBuyer   \n",
              "0              0.0           1  \n",
              "1              2.0           0  \n",
              "2              1.0           0  \n",
              "3              2.0           1  \n",
              "4              2.0           1  "
            ]
          },
          "metadata": {},
          "execution_count": 22
        }
      ]
    },
    {
      "cell_type": "markdown",
      "source": [
        "#Train/test"
      ],
      "metadata": {
        "id": "g0H9xZgihBXg"
      }
    },
    {
      "cell_type": "code",
      "source": [
        "df_x = [df[\"BusinessEntityID\"],df[\"MaritalStatus\"],df[\"YearlyIncome\"],df[\"Gender\"],df[\"TotalChildren\"],df[\"NumberChildrenAtHome\"],df[\"Education\"],df[\"Occupation\"],df[\"HomeOwnerFlag\"],df[\"NumberCarsOwned\"]] #depend\n",
        "x_headers = [\"BusinessEntityID\",\"MaritalStatus\",\"YearlyIncome\",\"Gender\",\"TotalChildren\",\"NumberChildrenAtHome\",\"Education\",\"Occupation\",\"HomeOwnerFlag\",\"NumberCarsOwned\"]\n",
        "x=pd.concat(df_x, axis=1, keys=x_headers)\n",
        "x"
      ],
      "metadata": {
        "id": "E6E5zx4LShib",
        "colab": {
          "base_uri": "https://localhost:8080/",
          "height": 424
        },
        "outputId": "2ac0e8df-035c-4ac9-939d-6825c01db758"
      },
      "execution_count": null,
      "outputs": [
        {
          "output_type": "execute_result",
          "data": {
            "text/html": [
              "\n",
              "  <div id=\"df-3f7c8ca3-5779-4562-8530-93c86c56203d\">\n",
              "    <div class=\"colab-df-container\">\n",
              "      <div>\n",
              "<style scoped>\n",
              "    .dataframe tbody tr th:only-of-type {\n",
              "        vertical-align: middle;\n",
              "    }\n",
              "\n",
              "    .dataframe tbody tr th {\n",
              "        vertical-align: top;\n",
              "    }\n",
              "\n",
              "    .dataframe thead th {\n",
              "        text-align: right;\n",
              "    }\n",
              "</style>\n",
              "<table border=\"1\" class=\"dataframe\">\n",
              "  <thead>\n",
              "    <tr style=\"text-align: right;\">\n",
              "      <th></th>\n",
              "      <th>BusinessEntityID</th>\n",
              "      <th>MaritalStatus</th>\n",
              "      <th>YearlyIncome</th>\n",
              "      <th>Gender</th>\n",
              "      <th>TotalChildren</th>\n",
              "      <th>NumberChildrenAtHome</th>\n",
              "      <th>Education</th>\n",
              "      <th>Occupation</th>\n",
              "      <th>HomeOwnerFlag</th>\n",
              "      <th>NumberCarsOwned</th>\n",
              "    </tr>\n",
              "  </thead>\n",
              "  <tbody>\n",
              "    <tr>\n",
              "      <th>0</th>\n",
              "      <td>14116</td>\n",
              "      <td>S</td>\n",
              "      <td>0-25000</td>\n",
              "      <td>F</td>\n",
              "      <td>2.0</td>\n",
              "      <td>2.0</td>\n",
              "      <td>High School</td>\n",
              "      <td>Manual</td>\n",
              "      <td>1.0</td>\n",
              "      <td>0.0</td>\n",
              "    </tr>\n",
              "    <tr>\n",
              "      <th>1</th>\n",
              "      <td>14173</td>\n",
              "      <td>S</td>\n",
              "      <td>25001-50000</td>\n",
              "      <td>M</td>\n",
              "      <td>4.0</td>\n",
              "      <td>2.0</td>\n",
              "      <td>High School</td>\n",
              "      <td>Skilled Manual</td>\n",
              "      <td>1.0</td>\n",
              "      <td>2.0</td>\n",
              "    </tr>\n",
              "    <tr>\n",
              "      <th>2</th>\n",
              "      <td>14175</td>\n",
              "      <td>S</td>\n",
              "      <td>25001-50000</td>\n",
              "      <td>M</td>\n",
              "      <td>1.0</td>\n",
              "      <td>0.0</td>\n",
              "      <td>Bachelors</td>\n",
              "      <td>Clerical</td>\n",
              "      <td>0.0</td>\n",
              "      <td>1.0</td>\n",
              "    </tr>\n",
              "    <tr>\n",
              "      <th>3</th>\n",
              "      <td>14182</td>\n",
              "      <td>S</td>\n",
              "      <td>25001-50000</td>\n",
              "      <td>F</td>\n",
              "      <td>2.0</td>\n",
              "      <td>0.0</td>\n",
              "      <td>Partial College</td>\n",
              "      <td>Skilled Manual</td>\n",
              "      <td>1.0</td>\n",
              "      <td>2.0</td>\n",
              "    </tr>\n",
              "    <tr>\n",
              "      <th>4</th>\n",
              "      <td>14209</td>\n",
              "      <td>S</td>\n",
              "      <td>0-25000</td>\n",
              "      <td>F</td>\n",
              "      <td>0.0</td>\n",
              "      <td>0.0</td>\n",
              "      <td>High School</td>\n",
              "      <td>Manual</td>\n",
              "      <td>0.0</td>\n",
              "      <td>2.0</td>\n",
              "    </tr>\n",
              "    <tr>\n",
              "      <th>...</th>\n",
              "      <td>...</td>\n",
              "      <td>...</td>\n",
              "      <td>...</td>\n",
              "      <td>...</td>\n",
              "      <td>...</td>\n",
              "      <td>...</td>\n",
              "      <td>...</td>\n",
              "      <td>...</td>\n",
              "      <td>...</td>\n",
              "      <td>...</td>\n",
              "    </tr>\n",
              "    <tr>\n",
              "      <th>19615</th>\n",
              "      <td>14445</td>\n",
              "      <td>S</td>\n",
              "      <td>50001-75000</td>\n",
              "      <td>M</td>\n",
              "      <td>0.0</td>\n",
              "      <td>0.0</td>\n",
              "      <td>Partial College</td>\n",
              "      <td>Skilled Manual</td>\n",
              "      <td>0.0</td>\n",
              "      <td>2.0</td>\n",
              "    </tr>\n",
              "    <tr>\n",
              "      <th>19616</th>\n",
              "      <td>14446</td>\n",
              "      <td>S</td>\n",
              "      <td>50001-75000</td>\n",
              "      <td>M</td>\n",
              "      <td>1.0</td>\n",
              "      <td>0.0</td>\n",
              "      <td>Partial College</td>\n",
              "      <td>Skilled Manual</td>\n",
              "      <td>0.0</td>\n",
              "      <td>1.0</td>\n",
              "    </tr>\n",
              "    <tr>\n",
              "      <th>19617</th>\n",
              "      <td>14075</td>\n",
              "      <td>S</td>\n",
              "      <td>0-25000</td>\n",
              "      <td>M</td>\n",
              "      <td>5.0</td>\n",
              "      <td>3.0</td>\n",
              "      <td>Partial High School</td>\n",
              "      <td>Manual</td>\n",
              "      <td>1.0</td>\n",
              "      <td>2.0</td>\n",
              "    </tr>\n",
              "    <tr>\n",
              "      <th>19618</th>\n",
              "      <td>14084</td>\n",
              "      <td>S</td>\n",
              "      <td>50001-75000</td>\n",
              "      <td>M</td>\n",
              "      <td>1.0</td>\n",
              "      <td>0.0</td>\n",
              "      <td>Bachelors</td>\n",
              "      <td>Professional</td>\n",
              "      <td>1.0</td>\n",
              "      <td>1.0</td>\n",
              "    </tr>\n",
              "    <tr>\n",
              "      <th>19619</th>\n",
              "      <td>14107</td>\n",
              "      <td>S</td>\n",
              "      <td>75001-100000</td>\n",
              "      <td>M</td>\n",
              "      <td>0.0</td>\n",
              "      <td>0.0</td>\n",
              "      <td>Bachelors</td>\n",
              "      <td>Management</td>\n",
              "      <td>1.0</td>\n",
              "      <td>1.0</td>\n",
              "    </tr>\n",
              "  </tbody>\n",
              "</table>\n",
              "<p>18484 rows × 10 columns</p>\n",
              "</div>\n",
              "      <button class=\"colab-df-convert\" onclick=\"convertToInteractive('df-3f7c8ca3-5779-4562-8530-93c86c56203d')\"\n",
              "              title=\"Convert this dataframe to an interactive table.\"\n",
              "              style=\"display:none;\">\n",
              "        \n",
              "  <svg xmlns=\"http://www.w3.org/2000/svg\" height=\"24px\"viewBox=\"0 0 24 24\"\n",
              "       width=\"24px\">\n",
              "    <path d=\"M0 0h24v24H0V0z\" fill=\"none\"/>\n",
              "    <path d=\"M18.56 5.44l.94 2.06.94-2.06 2.06-.94-2.06-.94-.94-2.06-.94 2.06-2.06.94zm-11 1L8.5 8.5l.94-2.06 2.06-.94-2.06-.94L8.5 2.5l-.94 2.06-2.06.94zm10 10l.94 2.06.94-2.06 2.06-.94-2.06-.94-.94-2.06-.94 2.06-2.06.94z\"/><path d=\"M17.41 7.96l-1.37-1.37c-.4-.4-.92-.59-1.43-.59-.52 0-1.04.2-1.43.59L10.3 9.45l-7.72 7.72c-.78.78-.78 2.05 0 2.83L4 21.41c.39.39.9.59 1.41.59.51 0 1.02-.2 1.41-.59l7.78-7.78 2.81-2.81c.8-.78.8-2.07 0-2.86zM5.41 20L4 18.59l7.72-7.72 1.47 1.35L5.41 20z\"/>\n",
              "  </svg>\n",
              "      </button>\n",
              "      \n",
              "  <style>\n",
              "    .colab-df-container {\n",
              "      display:flex;\n",
              "      flex-wrap:wrap;\n",
              "      gap: 12px;\n",
              "    }\n",
              "\n",
              "    .colab-df-convert {\n",
              "      background-color: #E8F0FE;\n",
              "      border: none;\n",
              "      border-radius: 50%;\n",
              "      cursor: pointer;\n",
              "      display: none;\n",
              "      fill: #1967D2;\n",
              "      height: 32px;\n",
              "      padding: 0 0 0 0;\n",
              "      width: 32px;\n",
              "    }\n",
              "\n",
              "    .colab-df-convert:hover {\n",
              "      background-color: #E2EBFA;\n",
              "      box-shadow: 0px 1px 2px rgba(60, 64, 67, 0.3), 0px 1px 3px 1px rgba(60, 64, 67, 0.15);\n",
              "      fill: #174EA6;\n",
              "    }\n",
              "\n",
              "    [theme=dark] .colab-df-convert {\n",
              "      background-color: #3B4455;\n",
              "      fill: #D2E3FC;\n",
              "    }\n",
              "\n",
              "    [theme=dark] .colab-df-convert:hover {\n",
              "      background-color: #434B5C;\n",
              "      box-shadow: 0px 1px 3px 1px rgba(0, 0, 0, 0.15);\n",
              "      filter: drop-shadow(0px 1px 2px rgba(0, 0, 0, 0.3));\n",
              "      fill: #FFFFFF;\n",
              "    }\n",
              "  </style>\n",
              "\n",
              "      <script>\n",
              "        const buttonEl =\n",
              "          document.querySelector('#df-3f7c8ca3-5779-4562-8530-93c86c56203d button.colab-df-convert');\n",
              "        buttonEl.style.display =\n",
              "          google.colab.kernel.accessAllowed ? 'block' : 'none';\n",
              "\n",
              "        async function convertToInteractive(key) {\n",
              "          const element = document.querySelector('#df-3f7c8ca3-5779-4562-8530-93c86c56203d');\n",
              "          const dataTable =\n",
              "            await google.colab.kernel.invokeFunction('convertToInteractive',\n",
              "                                                     [key], {});\n",
              "          if (!dataTable) return;\n",
              "\n",
              "          const docLinkHtml = 'Like what you see? Visit the ' +\n",
              "            '<a target=\"_blank\" href=https://colab.research.google.com/notebooks/data_table.ipynb>data table notebook</a>'\n",
              "            + ' to learn more about interactive tables.';\n",
              "          element.innerHTML = '';\n",
              "          dataTable['output_type'] = 'display_data';\n",
              "          await google.colab.output.renderOutput(dataTable, element);\n",
              "          const docLink = document.createElement('div');\n",
              "          docLink.innerHTML = docLinkHtml;\n",
              "          element.appendChild(docLink);\n",
              "        }\n",
              "      </script>\n",
              "    </div>\n",
              "  </div>\n",
              "  "
            ],
            "text/plain": [
              "       BusinessEntityID MaritalStatus  YearlyIncome Gender  TotalChildren  \\\n",
              "0                 14116             S       0-25000      F            2.0   \n",
              "1                 14173             S   25001-50000      M            4.0   \n",
              "2                 14175             S   25001-50000      M            1.0   \n",
              "3                 14182             S   25001-50000      F            2.0   \n",
              "4                 14209             S       0-25000      F            0.0   \n",
              "...                 ...           ...           ...    ...            ...   \n",
              "19615             14445             S   50001-75000      M            0.0   \n",
              "19616             14446             S   50001-75000      M            1.0   \n",
              "19617             14075             S       0-25000      M            5.0   \n",
              "19618             14084             S   50001-75000      M            1.0   \n",
              "19619             14107             S  75001-100000      M            0.0   \n",
              "\n",
              "       NumberChildrenAtHome            Education      Occupation  \\\n",
              "0                       2.0          High School          Manual   \n",
              "1                       2.0          High School  Skilled Manual   \n",
              "2                       0.0           Bachelors         Clerical   \n",
              "3                       0.0      Partial College  Skilled Manual   \n",
              "4                       0.0          High School          Manual   \n",
              "...                     ...                  ...             ...   \n",
              "19615                   0.0      Partial College  Skilled Manual   \n",
              "19616                   0.0      Partial College  Skilled Manual   \n",
              "19617                   3.0  Partial High School          Manual   \n",
              "19618                   0.0           Bachelors     Professional   \n",
              "19619                   0.0           Bachelors       Management   \n",
              "\n",
              "       HomeOwnerFlag  NumberCarsOwned  \n",
              "0                1.0              0.0  \n",
              "1                1.0              2.0  \n",
              "2                0.0              1.0  \n",
              "3                1.0              2.0  \n",
              "4                0.0              2.0  \n",
              "...              ...              ...  \n",
              "19615            0.0              2.0  \n",
              "19616            0.0              1.0  \n",
              "19617            1.0              2.0  \n",
              "19618            1.0              1.0  \n",
              "19619            1.0              1.0  \n",
              "\n",
              "[18484 rows x 10 columns]"
            ]
          },
          "metadata": {},
          "execution_count": 23
        }
      ]
    },
    {
      "cell_type": "code",
      "source": [
        "y=df.drop(['BusinessEntityID','MaritalStatus','YearlyIncome','Gender','TotalChildren','NumberChildrenAtHome','Education','Occupation','HomeOwnerFlag','NumberCarsOwned'],axis=1)\n",
        "y"
      ],
      "metadata": {
        "colab": {
          "base_uri": "https://localhost:8080/",
          "height": 424
        },
        "id": "zZbOuxXQUssZ",
        "outputId": "74625679-8fc9-4f71-812e-41437d240da5"
      },
      "execution_count": null,
      "outputs": [
        {
          "output_type": "execute_result",
          "data": {
            "text/html": [
              "\n",
              "  <div id=\"df-f8b4dc88-695d-4e86-bc16-f0034ada806b\">\n",
              "    <div class=\"colab-df-container\">\n",
              "      <div>\n",
              "<style scoped>\n",
              "    .dataframe tbody tr th:only-of-type {\n",
              "        vertical-align: middle;\n",
              "    }\n",
              "\n",
              "    .dataframe tbody tr th {\n",
              "        vertical-align: top;\n",
              "    }\n",
              "\n",
              "    .dataframe thead th {\n",
              "        text-align: right;\n",
              "    }\n",
              "</style>\n",
              "<table border=\"1\" class=\"dataframe\">\n",
              "  <thead>\n",
              "    <tr style=\"text-align: right;\">\n",
              "      <th></th>\n",
              "      <th>BikeBuyer</th>\n",
              "    </tr>\n",
              "  </thead>\n",
              "  <tbody>\n",
              "    <tr>\n",
              "      <th>0</th>\n",
              "      <td>1</td>\n",
              "    </tr>\n",
              "    <tr>\n",
              "      <th>1</th>\n",
              "      <td>0</td>\n",
              "    </tr>\n",
              "    <tr>\n",
              "      <th>2</th>\n",
              "      <td>0</td>\n",
              "    </tr>\n",
              "    <tr>\n",
              "      <th>3</th>\n",
              "      <td>1</td>\n",
              "    </tr>\n",
              "    <tr>\n",
              "      <th>4</th>\n",
              "      <td>1</td>\n",
              "    </tr>\n",
              "    <tr>\n",
              "      <th>...</th>\n",
              "      <td>...</td>\n",
              "    </tr>\n",
              "    <tr>\n",
              "      <th>19615</th>\n",
              "      <td>0</td>\n",
              "    </tr>\n",
              "    <tr>\n",
              "      <th>19616</th>\n",
              "      <td>1</td>\n",
              "    </tr>\n",
              "    <tr>\n",
              "      <th>19617</th>\n",
              "      <td>1</td>\n",
              "    </tr>\n",
              "    <tr>\n",
              "      <th>19618</th>\n",
              "      <td>1</td>\n",
              "    </tr>\n",
              "    <tr>\n",
              "      <th>19619</th>\n",
              "      <td>1</td>\n",
              "    </tr>\n",
              "  </tbody>\n",
              "</table>\n",
              "<p>18484 rows × 1 columns</p>\n",
              "</div>\n",
              "      <button class=\"colab-df-convert\" onclick=\"convertToInteractive('df-f8b4dc88-695d-4e86-bc16-f0034ada806b')\"\n",
              "              title=\"Convert this dataframe to an interactive table.\"\n",
              "              style=\"display:none;\">\n",
              "        \n",
              "  <svg xmlns=\"http://www.w3.org/2000/svg\" height=\"24px\"viewBox=\"0 0 24 24\"\n",
              "       width=\"24px\">\n",
              "    <path d=\"M0 0h24v24H0V0z\" fill=\"none\"/>\n",
              "    <path d=\"M18.56 5.44l.94 2.06.94-2.06 2.06-.94-2.06-.94-.94-2.06-.94 2.06-2.06.94zm-11 1L8.5 8.5l.94-2.06 2.06-.94-2.06-.94L8.5 2.5l-.94 2.06-2.06.94zm10 10l.94 2.06.94-2.06 2.06-.94-2.06-.94-.94-2.06-.94 2.06-2.06.94z\"/><path d=\"M17.41 7.96l-1.37-1.37c-.4-.4-.92-.59-1.43-.59-.52 0-1.04.2-1.43.59L10.3 9.45l-7.72 7.72c-.78.78-.78 2.05 0 2.83L4 21.41c.39.39.9.59 1.41.59.51 0 1.02-.2 1.41-.59l7.78-7.78 2.81-2.81c.8-.78.8-2.07 0-2.86zM5.41 20L4 18.59l7.72-7.72 1.47 1.35L5.41 20z\"/>\n",
              "  </svg>\n",
              "      </button>\n",
              "      \n",
              "  <style>\n",
              "    .colab-df-container {\n",
              "      display:flex;\n",
              "      flex-wrap:wrap;\n",
              "      gap: 12px;\n",
              "    }\n",
              "\n",
              "    .colab-df-convert {\n",
              "      background-color: #E8F0FE;\n",
              "      border: none;\n",
              "      border-radius: 50%;\n",
              "      cursor: pointer;\n",
              "      display: none;\n",
              "      fill: #1967D2;\n",
              "      height: 32px;\n",
              "      padding: 0 0 0 0;\n",
              "      width: 32px;\n",
              "    }\n",
              "\n",
              "    .colab-df-convert:hover {\n",
              "      background-color: #E2EBFA;\n",
              "      box-shadow: 0px 1px 2px rgba(60, 64, 67, 0.3), 0px 1px 3px 1px rgba(60, 64, 67, 0.15);\n",
              "      fill: #174EA6;\n",
              "    }\n",
              "\n",
              "    [theme=dark] .colab-df-convert {\n",
              "      background-color: #3B4455;\n",
              "      fill: #D2E3FC;\n",
              "    }\n",
              "\n",
              "    [theme=dark] .colab-df-convert:hover {\n",
              "      background-color: #434B5C;\n",
              "      box-shadow: 0px 1px 3px 1px rgba(0, 0, 0, 0.15);\n",
              "      filter: drop-shadow(0px 1px 2px rgba(0, 0, 0, 0.3));\n",
              "      fill: #FFFFFF;\n",
              "    }\n",
              "  </style>\n",
              "\n",
              "      <script>\n",
              "        const buttonEl =\n",
              "          document.querySelector('#df-f8b4dc88-695d-4e86-bc16-f0034ada806b button.colab-df-convert');\n",
              "        buttonEl.style.display =\n",
              "          google.colab.kernel.accessAllowed ? 'block' : 'none';\n",
              "\n",
              "        async function convertToInteractive(key) {\n",
              "          const element = document.querySelector('#df-f8b4dc88-695d-4e86-bc16-f0034ada806b');\n",
              "          const dataTable =\n",
              "            await google.colab.kernel.invokeFunction('convertToInteractive',\n",
              "                                                     [key], {});\n",
              "          if (!dataTable) return;\n",
              "\n",
              "          const docLinkHtml = 'Like what you see? Visit the ' +\n",
              "            '<a target=\"_blank\" href=https://colab.research.google.com/notebooks/data_table.ipynb>data table notebook</a>'\n",
              "            + ' to learn more about interactive tables.';\n",
              "          element.innerHTML = '';\n",
              "          dataTable['output_type'] = 'display_data';\n",
              "          await google.colab.output.renderOutput(dataTable, element);\n",
              "          const docLink = document.createElement('div');\n",
              "          docLink.innerHTML = docLinkHtml;\n",
              "          element.appendChild(docLink);\n",
              "        }\n",
              "      </script>\n",
              "    </div>\n",
              "  </div>\n",
              "  "
            ],
            "text/plain": [
              "       BikeBuyer \n",
              "0               1\n",
              "1               0\n",
              "2               0\n",
              "3               1\n",
              "4               1\n",
              "...           ...\n",
              "19615           0\n",
              "19616           1\n",
              "19617           1\n",
              "19618           1\n",
              "19619           1\n",
              "\n",
              "[18484 rows x 1 columns]"
            ]
          },
          "metadata": {},
          "execution_count": 24
        }
      ]
    },
    {
      "cell_type": "code",
      "source": [
        "x=pd.get_dummies(x,drop_first=True)"
      ],
      "metadata": {
        "id": "ItCDkwK5chP3"
      },
      "execution_count": null,
      "outputs": []
    },
    {
      "cell_type": "code",
      "source": [
        "#Chia dữ liệu train & test: 80:20.\n",
        "x_train,x_test,y_train,y_test=train_test_split(x,y,test_size=1/4,random_state=0)"
      ],
      "metadata": {
        "id": "Rv3Wend5THNg"
      },
      "execution_count": null,
      "outputs": []
    },
    {
      "cell_type": "code",
      "source": [
        "x_test.shape"
      ],
      "metadata": {
        "colab": {
          "base_uri": "https://localhost:8080/"
        },
        "id": "YIMtW8t1jciG",
        "outputId": "3b0e1d68-5658-4b8d-e817-59c81fe059b0"
      },
      "execution_count": null,
      "outputs": [
        {
          "output_type": "execute_result",
          "data": {
            "text/plain": [
              "(4621, 19)"
            ]
          },
          "metadata": {},
          "execution_count": 27
        }
      ]
    },
    {
      "cell_type": "code",
      "source": [
        "y_train.shape"
      ],
      "metadata": {
        "colab": {
          "base_uri": "https://localhost:8080/"
        },
        "id": "haWiSmMijiHz",
        "outputId": "1d400380-cc9e-4e15-e21a-eb023d574001"
      },
      "execution_count": null,
      "outputs": [
        {
          "output_type": "execute_result",
          "data": {
            "text/plain": [
              "(13863, 1)"
            ]
          },
          "metadata": {},
          "execution_count": 28
        }
      ]
    },
    {
      "cell_type": "code",
      "source": [
        "y_test.shape"
      ],
      "metadata": {
        "colab": {
          "base_uri": "https://localhost:8080/"
        },
        "id": "IV5olrmnjmS7",
        "outputId": "bc827163-b8ca-4110-db45-4f860a2d1357"
      },
      "execution_count": null,
      "outputs": [
        {
          "output_type": "execute_result",
          "data": {
            "text/plain": [
              "(4621, 1)"
            ]
          },
          "metadata": {},
          "execution_count": 29
        }
      ]
    },
    {
      "cell_type": "code",
      "source": [
        "x_train.shape"
      ],
      "metadata": {
        "colab": {
          "base_uri": "https://localhost:8080/"
        },
        "id": "U09ysxc1jXni",
        "outputId": "90d5c4e0-1a42-423d-d3a4-148882c292c5"
      },
      "execution_count": null,
      "outputs": [
        {
          "output_type": "execute_result",
          "data": {
            "text/plain": [
              "(13863, 19)"
            ]
          },
          "metadata": {},
          "execution_count": 30
        }
      ]
    },
    {
      "cell_type": "code",
      "source": [
        "# Đào tạo mô hình hồi quy logistic cơ bản với gói đào tạo\n",
        "lm = LogisticRegression(solver='lbfgs',random_state=0)\n",
        "lm.fit(x_train, y_train)\n",
        "y_pred = lm.predict(x_test)\n",
        "y_pred\n",
        "print(\"intercept \")\n",
        "print(lm.intercept_)\n",
        "print(\"\")\n",
        "print(\"coefficients \")\n",
        "print(lm.coef_)"
      ],
      "metadata": {
        "colab": {
          "base_uri": "https://localhost:8080/"
        },
        "id": "0TJVVVOWTYJO",
        "outputId": "aa6941aa-f047-48a1-e8c1-a2a0ccd1e4d6"
      },
      "execution_count": null,
      "outputs": [
        {
          "output_type": "stream",
          "name": "stdout",
          "text": [
            "intercept \n",
            "[0.25610801]\n",
            "\n",
            "coefficients \n",
            "[[-3.24766105e-06 -1.77019063e-01  4.61592700e-02  2.30408786e-01\n",
            "  -2.94854892e-01  3.42725830e-01  5.86695957e-02  1.89259819e-01\n",
            "   1.03943692e-01  2.16635840e-01  3.31107708e-02  5.05399482e-02\n",
            "  -1.00574641e-01  5.45771101e-02 -2.32124559e-01  1.06133879e-01\n",
            "  -1.99935802e-01  1.85915407e-01  2.73418557e-03]]\n"
          ]
        }
      ]
    },
    {
      "cell_type": "markdown",
      "source": [
        "#Lựa chọn metric cho bài toán."
      ],
      "metadata": {
        "id": "3Hi0hk2Hdw2B"
      }
    },
    {
      "cell_type": "markdown",
      "source": [
        "$$\n",
        "\tAccurancy= \\frac{TP+TN}{TP+TN+FP+FN}  $$\n",
        "  $$\n",
        "\tPrecision= \\frac{TP}{TP+FP}  $$\n",
        "  $$\n",
        "\tRecall= \\frac{TP}{TP+FN}  $$\n",
        "  $$\n",
        "\tF1= \\frac{2TP}{2TP+FP+FN}  $$"
      ],
      "metadata": {
        "id": "JzvzAIEslOPk"
      }
    },
    {
      "cell_type": "code",
      "source": [
        "from sklearn.metrics import accuracy_score, f1_score, precision_score, recall_score\n",
        "print(\"\")\n",
        "a1 = accuracy_score(y_test,y_pred)\n",
        "f1 = f1_score(y_test, y_pred, average=\"macro\")\n",
        "p1 = precision_score(y_test, y_pred, average=\"macro\")\n",
        "r1 = recall_score(y_test, y_pred, average=\"macro\")\n",
        "print(\"accuracy score : \",a1)\n",
        "print(\"f1 score : \",f1)\n",
        "print(\"precision score : \",p1)\n",
        "print(\"recall score : \",r1)"
      ],
      "metadata": {
        "colab": {
          "base_uri": "https://localhost:8080/"
        },
        "id": "YC56mbfPT0kK",
        "outputId": "a0a59895-bb34-4e6d-cd78-fb2d31b7c8ec"
      },
      "execution_count": null,
      "outputs": [
        {
          "output_type": "stream",
          "name": "stdout",
          "text": [
            "\n",
            "accuracy score :  0.6057130491235664\n",
            "f1 score :  0.605603541962717\n",
            "precision score :  0.6057686033779324\n",
            "recall score :  0.6056709653587014\n"
          ]
        }
      ]
    },
    {
      "cell_type": "markdown",
      "source": [
        "Nhận xét: \n",
        "\n",
        "accurancy xấp xỉ 0.6 --> Mức độ dự đoán nợ xấu chính xác khá thấp\n",
        "\n",
        "preccision xấp xỉ 0.65 --> mức độ báo động nhầm khá cao\n",
        "\n",
        "recall xấp xỉ 0.6 -> mức độ nhận nhầm, sai sót cao\n",
        "\n",
        "F1 xấp xỉ 0,6 --> mức độ cân bằng giữa recall và preccision khá cao"
      ],
      "metadata": {
        "id": "76LJFugrolRz"
      }
    },
    {
      "cell_type": "markdown",
      "source": [
        "#4. Xây dựng model, triển khai và đánh giá mô hình"
      ],
      "metadata": {
        "id": "BRruNp3jeAoq"
      }
    },
    {
      "cell_type": "code",
      "source": [
        "# Visualize feature correlations\n",
        "fig, ax = plt.subplots(figsize=(10,10))  \n",
        "sns.heatmap(x._get_numeric_data().astype(float).corr(),\n",
        "            square=True, cmap='RdBu_r', linewidths=.5,\n",
        "            annot=True, fmt='.2f').figure.tight_layout()\n",
        "plt.show()"
      ],
      "metadata": {
        "colab": {
          "base_uri": "https://localhost:8080/",
          "height": 706
        },
        "id": "bkMj2i_Zth4E",
        "outputId": "3c47a61d-9873-4f03-b16c-b10c35d0ace3"
      },
      "execution_count": null,
      "outputs": [
        {
          "output_type": "display_data",
          "data": {
            "image/png": "[encoded data removed]",
            "text/plain": [
              "<Figure size 720x720 with 2 Axes>"
            ]
          },
          "metadata": {
            "needs_background": "light"
          }
        }
      ]
    },
    {
      "cell_type": "code",
      "source": [
        "scaler = preprocessing.StandardScaler().fit(x_train)\n",
        "x_train_scaled = scaler.transform(x_train)"
      ],
      "metadata": {
        "id": "wYycy6tuUYDU"
      },
      "execution_count": null,
      "outputs": []
    },
    {
      "cell_type": "code",
      "source": [
        "#Build a logistic regression model\n",
        "model = LogisticRegression()"
      ],
      "metadata": {
        "id": "vRFJ7KJWUeJ3"
      },
      "execution_count": null,
      "outputs": []
    },
    {
      "cell_type": "code",
      "source": [
        "#Training the model again\n",
        "model.fit(x_train_scaled, y_train)"
      ],
      "metadata": {
        "colab": {
          "base_uri": "https://localhost:8080/"
        },
        "id": "Fanhd28RUiKU",
        "outputId": "c1ecaa44-9332-4b7e-a881-9ca7e9afa2f7"
      },
      "execution_count": null,
      "outputs": [
        {
          "output_type": "execute_result",
          "data": {
            "text/plain": [
              "LogisticRegression()"
            ]
          },
          "metadata": {},
          "execution_count": 36
        }
      ]
    },
    {
      "cell_type": "markdown",
      "source": [
        "1. Đánh giá trên tập train"
      ],
      "metadata": {
        "id": "o64X-2VRUrm4"
      }
    },
    {
      "cell_type": "code",
      "source": [
        "train_acc = model.score(x_train_scaled, y_train)\n",
        "print(\"The Accuracy for Training Set is {}\".format(train_acc*100))"
      ],
      "metadata": {
        "colab": {
          "base_uri": "https://localhost:8080/"
        },
        "id": "FhhMf4sBUwLG",
        "outputId": "edac18f8-5a04-425b-f88b-ec04daabd1cb"
      },
      "execution_count": null,
      "outputs": [
        {
          "output_type": "stream",
          "name": "stdout",
          "text": [
            "The Accuracy for Training Set is 63.40618913655053\n"
          ]
        }
      ]
    },
    {
      "cell_type": "markdown",
      "source": [
        "2. Đánh giá trên tập test"
      ],
      "metadata": {
        "id": "-m-wI8rrU6G1"
      }
    },
    {
      "cell_type": "code",
      "source": [
        "test_acc = accuracy_score(y_test, y_pred)\n",
        "print(\"The Accuracy for Test Set is {}\".format(test_acc*100))"
      ],
      "metadata": {
        "colab": {
          "base_uri": "https://localhost:8080/"
        },
        "id": "sOJX63bEU62u",
        "outputId": "76f7abc7-30a4-4b61-f984-0a377da3f1f5"
      },
      "execution_count": null,
      "outputs": [
        {
          "output_type": "stream",
          "name": "stdout",
          "text": [
            "The Accuracy for Test Set is 60.57130491235664\n"
          ]
        }
      ]
    },
    {
      "cell_type": "markdown",
      "source": [
        "**Tạo báo phân loại**"
      ],
      "metadata": {
        "id": "onfPfv1KVBFS"
      }
    },
    {
      "cell_type": "code",
      "source": [
        "print(classification_report(y_test, y_pred))"
      ],
      "metadata": {
        "colab": {
          "base_uri": "https://localhost:8080/"
        },
        "id": "8aqJAdlXU94f",
        "outputId": "f0b5f24d-5838-4e9c-b03e-9172ebbd1a5b"
      },
      "execution_count": null,
      "outputs": [
        {
          "output_type": "stream",
          "name": "stdout",
          "text": [
            "              precision    recall  f1-score   support\n",
            "\n",
            "           0       0.61      0.59      0.60      2304\n",
            "           1       0.60      0.62      0.61      2317\n",
            "\n",
            "    accuracy                           0.61      4621\n",
            "   macro avg       0.61      0.61      0.61      4621\n",
            "weighted avg       0.61      0.61      0.61      4621\n",
            "\n"
          ]
        }
      ]
    },
    {
      "cell_type": "markdown",
      "source": [
        " **Ma trận nhầm lẫn**"
      ],
      "metadata": {
        "id": "lpC45ASnVLpw"
      }
    },
    {
      "cell_type": "code",
      "source": [
        "from sklearn.metrics import accuracy_score, classification_report, confusion_matrix\n",
        "cm=confusion_matrix(y_test,y_pred)\n",
        "plt.figure(figsize=(12,6))\n",
        "plt.title(\"Confusion Matrix\")\n",
        "sns.heatmap(cm, annot=True,fmt='d', cmap='Blues')\n",
        "plt.ylabel(\"Actual Values\")\n",
        "plt.xlabel(\"Predicted Values\")\n",
        "plt.savefig('confusion_matrix.png')"
      ],
      "metadata": {
        "id": "trx8125kVMW0",
        "outputId": "def096f5-1f1d-4f5e-cdcd-262fa52ce97b",
        "colab": {
          "base_uri": "https://localhost:8080/",
          "height": 410
        }
      },
      "execution_count": null,
      "outputs": [
        {
          "output_type": "display_data",
          "data": {
            "image/png": "[encoded data removed]",
            "text/plain": [
              "<Figure size 864x432 with 2 Axes>"
            ]
          },
          "metadata": {
            "needs_background": "light"
          }
        }
      ]
    },
    {
      "cell_type": "markdown",
      "source": [
        "#Decission tree"
      ],
      "metadata": {
        "id": "bXIJEq3DjAHh"
      }
    },
    {
      "cell_type": "markdown",
      "source": [
        "##Helper code to visualize tree"
      ],
      "metadata": {
        "id": "mMk0Z2Wxj4Lj"
      }
    },
    {
      "cell_type": "code",
      "source": [
        "def tree_graph_to_png(tree, feature_names, png_file_to_save):\n",
        "    tree_str = export_graphviz(tree, feature_names=feature_names, \n",
        "                                     filled=True, out_file=None)\n",
        "    graph = pydotplus.graph_from_dot_data(tree_str)  \n",
        "    graph.write_png(png_file_to_save)"
      ],
      "metadata": {
        "id": "T9X4rmlFi_LY"
      },
      "execution_count": null,
      "outputs": []
    },
    {
      "cell_type": "markdown",
      "source": [
        "##Train tree and get predictions"
      ],
      "metadata": {
        "id": "V4L3VLzfkCZU"
      }
    },
    {
      "cell_type": "code",
      "source": [
        "# Instantiate a DecisionTreeClassifier 'dt' with a maximum depth of 11\n",
        "dt = DecisionTreeClassifier(max_depth=11, random_state=1)\n",
        "\n",
        "# Fit dt to the training set\n",
        "dt.fit(x_train, y_train)\n",
        "\n",
        "# Predict test set labels\n",
        "y_pred = dt.predict(x_test)\n",
        "print(y_pred[0:10])"
      ],
      "metadata": {
        "colab": {
          "base_uri": "https://localhost:8080/"
        },
        "id": "IE019v-OkErY",
        "outputId": "6c42232d-0b62-447c-f37e-31613bf00320"
      },
      "execution_count": null,
      "outputs": [
        {
          "output_type": "stream",
          "name": "stdout",
          "text": [
            "[1 0 1 1 1 0 1 0 0 1]\n"
          ]
        }
      ]
    },
    {
      "cell_type": "code",
      "source": [
        "# Predict test set labels\n",
        "y_pred = dt.predict(x_test)\n",
        "\n",
        "# Compute test set accuracy\n",
        "acc = accuracy_score(y_test, y_pred)\n",
        "print(\"Test set accuracy: {:.2f}\".format(acc))"
      ],
      "metadata": {
        "colab": {
          "base_uri": "https://localhost:8080/"
        },
        "id": "7SxTo29tl1Zw",
        "outputId": "044fb838-b54d-417d-ce63-4380d73a705e"
      },
      "execution_count": null,
      "outputs": [
        {
          "output_type": "stream",
          "name": "stdout",
          "text": [
            "Test set accuracy: 0.71\n"
          ]
        }
      ]
    },
    {
      "cell_type": "markdown",
      "source": [
        "Mức độ dự đoán chính xác theo Cây quyết định cao hơn mô hinh OLS"
      ],
      "metadata": {
        "id": "kQZqJoqn9KK8"
      }
    },
    {
      "cell_type": "code",
      "source": [
        "cm1=confusion_matrix(y_test,y_pred)\n",
        "plt.figure(figsize=(12,6))\n",
        "plt.title(\"Confusion Matrix\")\n",
        "sns.heatmap(cm1, annot=True,fmt='d', cmap='Blues')\n",
        "plt.ylabel(\"Actual Values\")\n",
        "plt.xlabel(\"Predicted Values\")\n",
        "plt.savefig('confusion_matrix_dt.png')"
      ],
      "metadata": {
        "colab": {
          "base_uri": "https://localhost:8080/",
          "height": 410
        },
        "id": "fcd2ff464feg",
        "outputId": "40e57a5f-3521-4445-8688-498663c861e7"
      },
      "execution_count": null,
      "outputs": [
        {
          "output_type": "display_data",
          "data": {
            "image/png": "[encoded data removed]",
            "text/plain": [
              "<Figure size 864x432 with 2 Axes>"
            ]
          },
          "metadata": {
            "needs_background": "light"
          }
        }
      ]
    },
    {
      "cell_type": "code",
      "source": [
        "print(classification_report(y_test, y_pred))"
      ],
      "metadata": {
        "id": "Wrh-b_CcCcEX",
        "outputId": "859a1b48-68ac-486a-b486-8c64471912b4",
        "colab": {
          "base_uri": "https://localhost:8080/"
        }
      },
      "execution_count": null,
      "outputs": [
        {
          "output_type": "stream",
          "name": "stdout",
          "text": [
            "              precision    recall  f1-score   support\n",
            "\n",
            "           0       0.69      0.75      0.72      2304\n",
            "           1       0.73      0.67      0.70      2317\n",
            "\n",
            "    accuracy                           0.71      4621\n",
            "   macro avg       0.71      0.71      0.71      4621\n",
            "weighted avg       0.71      0.71      0.71      4621\n",
            "\n"
          ]
        }
      ]
    }
  ]
}